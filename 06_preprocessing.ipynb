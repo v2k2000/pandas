{
 "cells": [
  {
   "cell_type": "code",
   "execution_count": 1,
   "id": "66ef7b17-b5a5-46d5-bd95-90d3076269b6",
   "metadata": {},
   "outputs": [],
   "source": [
    "import numpy as np\n",
    "import pandas as pd\n",
    "import seaborn as sns"
   ]
  },
  {
   "cell_type": "code",
   "execution_count": 2,
   "id": "7300715e-4114-4da2-9def-817b4e10f9f8",
   "metadata": {},
   "outputs": [],
   "source": [
    "df = sns.load_dataset('titanic')"
   ]
  },
  {
   "cell_type": "code",
   "execution_count": 8,
   "id": "dcc44685-1854-4455-a291-d72b175ec4b1",
   "metadata": {},
   "outputs": [],
   "source": [
    "df1 = df.copy()"
   ]
  },
  {
   "cell_type": "markdown",
   "id": "0dfccaf5-2bd5-40b4-a9a5-ae0a2caf4f08",
   "metadata": {},
   "source": [
    "### 컬럼 추가"
   ]
  },
  {
   "cell_type": "code",
   "execution_count": 39,
   "id": "95a7bb13-f240-472d-82ec-74d9ae493825",
   "metadata": {},
   "outputs": [],
   "source": [
    "df1['vip'] = False"
   ]
  },
  {
   "cell_type": "markdown",
   "id": "728d3d63-de36-4d73-9645-bd28264e6830",
   "metadata": {},
   "source": [
    "### 컬럼 삭제"
   ]
  },
  {
   "cell_type": "code",
   "execution_count": 50,
   "id": "e05656ce-27fa-4e54-8b94-49a67fe77ece",
   "metadata": {},
   "outputs": [
    {
     "data": {
      "text/html": [
       "<div>\n",
       "<style scoped>\n",
       "    .dataframe tbody tr th:only-of-type {\n",
       "        vertical-align: middle;\n",
       "    }\n",
       "\n",
       "    .dataframe tbody tr th {\n",
       "        vertical-align: top;\n",
       "    }\n",
       "\n",
       "    .dataframe thead th {\n",
       "        text-align: right;\n",
       "    }\n",
       "</style>\n",
       "<table border=\"1\" class=\"dataframe\">\n",
       "  <thead>\n",
       "    <tr style=\"text-align: right;\">\n",
       "      <th></th>\n",
       "      <th>survived</th>\n",
       "      <th>pclass</th>\n",
       "      <th>sex</th>\n",
       "      <th>age</th>\n",
       "      <th>sibsp</th>\n",
       "      <th>parch</th>\n",
       "      <th>fare</th>\n",
       "      <th>embarked</th>\n",
       "      <th>class</th>\n",
       "      <th>who</th>\n",
       "      <th>adult_male</th>\n",
       "      <th>deck</th>\n",
       "      <th>embark_town</th>\n",
       "      <th>alive</th>\n",
       "      <th>alone</th>\n",
       "    </tr>\n",
       "  </thead>\n",
       "  <tbody>\n",
       "    <tr>\n",
       "      <th>10</th>\n",
       "      <td>1</td>\n",
       "      <td>3</td>\n",
       "      <td>female</td>\n",
       "      <td>4.0</td>\n",
       "      <td>1</td>\n",
       "      <td>1</td>\n",
       "      <td>16.7</td>\n",
       "      <td>S</td>\n",
       "      <td>Third</td>\n",
       "      <td>child</td>\n",
       "      <td>False</td>\n",
       "      <td>G</td>\n",
       "      <td>Southampton</td>\n",
       "      <td>yes</td>\n",
       "      <td>False</td>\n",
       "    </tr>\n",
       "  </tbody>\n",
       "</table>\n",
       "</div>"
      ],
      "text/plain": [
       "    survived  pclass     sex  age  sibsp  parch  fare embarked  class    who  \\\n",
       "10         1       3  female  4.0      1      1  16.7        S  Third  child   \n",
       "\n",
       "    adult_male deck  embark_town alive  alone  \n",
       "10       False    G  Southampton   yes  False  "
      ]
     },
     "execution_count": 50,
     "metadata": {},
     "output_type": "execute_result"
    }
   ],
   "source": [
    "df1.drop(1).head(1)\n",
    "df1.drop([1, 3, 5, 7, 9]).head(1)\n",
    "df1.drop(np.arange(10)).head(1)\n",
    "# 원본 유지 재할당 필요"
   ]
  },
  {
   "cell_type": "code",
   "execution_count": 51,
   "id": "ee0f2a52-16ea-405d-a278-dee3a942ebab",
   "metadata": {},
   "outputs": [
    {
     "data": {
      "text/html": [
       "<div>\n",
       "<style scoped>\n",
       "    .dataframe tbody tr th:only-of-type {\n",
       "        vertical-align: middle;\n",
       "    }\n",
       "\n",
       "    .dataframe tbody tr th {\n",
       "        vertical-align: top;\n",
       "    }\n",
       "\n",
       "    .dataframe thead th {\n",
       "        text-align: right;\n",
       "    }\n",
       "</style>\n",
       "<table border=\"1\" class=\"dataframe\">\n",
       "  <thead>\n",
       "    <tr style=\"text-align: right;\">\n",
       "      <th></th>\n",
       "      <th>survived</th>\n",
       "      <th>pclass</th>\n",
       "      <th>sex</th>\n",
       "      <th>age</th>\n",
       "      <th>sibsp</th>\n",
       "      <th>parch</th>\n",
       "      <th>fare</th>\n",
       "      <th>embarked</th>\n",
       "      <th>who</th>\n",
       "      <th>adult_male</th>\n",
       "      <th>deck</th>\n",
       "      <th>embark_town</th>\n",
       "      <th>alive</th>\n",
       "      <th>alone</th>\n",
       "    </tr>\n",
       "  </thead>\n",
       "  <tbody>\n",
       "    <tr>\n",
       "      <th>0</th>\n",
       "      <td>0</td>\n",
       "      <td>3</td>\n",
       "      <td>male</td>\n",
       "      <td>22.0</td>\n",
       "      <td>1</td>\n",
       "      <td>0</td>\n",
       "      <td>7.25</td>\n",
       "      <td>S</td>\n",
       "      <td>man</td>\n",
       "      <td>True</td>\n",
       "      <td>NaN</td>\n",
       "      <td>Southampton</td>\n",
       "      <td>no</td>\n",
       "      <td>False</td>\n",
       "    </tr>\n",
       "  </tbody>\n",
       "</table>\n",
       "</div>"
      ],
      "text/plain": [
       "   survived  pclass   sex   age  sibsp  parch  fare embarked  who  adult_male  \\\n",
       "0         0       3  male  22.0      1      0  7.25        S  man        True   \n",
       "\n",
       "  deck  embark_town alive  alone  \n",
       "0  NaN  Southampton    no  False  "
      ]
     },
     "execution_count": 51,
     "metadata": {},
     "output_type": "execute_result"
    }
   ],
   "source": [
    "df1.drop('class', axis=1).head(1)\n",
    "# 컬럼삭제는 axis=1 필요\n",
    "# (0 or index) (1 or colmns)"
   ]
  },
  {
   "cell_type": "code",
   "execution_count": 52,
   "id": "59b503ed-9e32-430a-93cd-57db5e2a884d",
   "metadata": {},
   "outputs": [
    {
     "data": {
      "text/html": [
       "<div>\n",
       "<style scoped>\n",
       "    .dataframe tbody tr th:only-of-type {\n",
       "        vertical-align: middle;\n",
       "    }\n",
       "\n",
       "    .dataframe tbody tr th {\n",
       "        vertical-align: top;\n",
       "    }\n",
       "\n",
       "    .dataframe thead th {\n",
       "        text-align: right;\n",
       "    }\n",
       "</style>\n",
       "<table border=\"1\" class=\"dataframe\">\n",
       "  <thead>\n",
       "    <tr style=\"text-align: right;\">\n",
       "      <th></th>\n",
       "      <th>survived</th>\n",
       "      <th>pclass</th>\n",
       "      <th>sex</th>\n",
       "      <th>age</th>\n",
       "      <th>sibsp</th>\n",
       "      <th>parch</th>\n",
       "      <th>fare</th>\n",
       "      <th>embarked</th>\n",
       "      <th>adult_male</th>\n",
       "      <th>deck</th>\n",
       "      <th>embark_town</th>\n",
       "      <th>alone</th>\n",
       "    </tr>\n",
       "  </thead>\n",
       "  <tbody>\n",
       "    <tr>\n",
       "      <th>0</th>\n",
       "      <td>0</td>\n",
       "      <td>3</td>\n",
       "      <td>male</td>\n",
       "      <td>22.0</td>\n",
       "      <td>1</td>\n",
       "      <td>0</td>\n",
       "      <td>7.2500</td>\n",
       "      <td>S</td>\n",
       "      <td>True</td>\n",
       "      <td>NaN</td>\n",
       "      <td>Southampton</td>\n",
       "      <td>False</td>\n",
       "    </tr>\n",
       "    <tr>\n",
       "      <th>1</th>\n",
       "      <td>1</td>\n",
       "      <td>1</td>\n",
       "      <td>female</td>\n",
       "      <td>38.0</td>\n",
       "      <td>1</td>\n",
       "      <td>0</td>\n",
       "      <td>71.2833</td>\n",
       "      <td>C</td>\n",
       "      <td>False</td>\n",
       "      <td>C</td>\n",
       "      <td>Cherbourg</td>\n",
       "      <td>False</td>\n",
       "    </tr>\n",
       "  </tbody>\n",
       "</table>\n",
       "</div>"
      ],
      "text/plain": [
       "   survived  pclass     sex   age  sibsp  parch     fare embarked  adult_male  \\\n",
       "0         0       3    male  22.0      1      0   7.2500        S        True   \n",
       "1         1       1  female  38.0      1      0  71.2833        C       False   \n",
       "\n",
       "  deck  embark_town  alone  \n",
       "0  NaN  Southampton  False  \n",
       "1    C    Cherbourg  False  "
      ]
     },
     "execution_count": 52,
     "metadata": {},
     "output_type": "execute_result"
    }
   ],
   "source": [
    "df1.drop(['class', 'who', 'alive'], axis=1).head(2)"
   ]
  },
  {
   "cell_type": "code",
   "execution_count": 53,
   "id": "ab9c3cb2-8a79-4cc4-8ce5-132f296a7df4",
   "metadata": {},
   "outputs": [
    {
     "ename": "AttributeError",
     "evalue": "'NoneType' object has no attribute 'head'",
     "output_type": "error",
     "traceback": [
      "\u001b[1;31m---------------------------------------------\u001b[0m",
      "\u001b[1;31mAttributeError\u001b[0mTraceback (most recent call last)",
      "Cell \u001b[1;32mIn[53], line 1\u001b[0m\n\u001b[1;32m----> 1\u001b[0m \u001b[43mdf1\u001b[49m\u001b[38;5;241;43m.\u001b[39;49m\u001b[43mdrop\u001b[49m\u001b[43m(\u001b[49m\u001b[43m[\u001b[49m\u001b[38;5;124;43m'\u001b[39;49m\u001b[38;5;124;43mclass\u001b[39;49m\u001b[38;5;124;43m'\u001b[39;49m\u001b[43m,\u001b[49m\u001b[43m \u001b[49m\u001b[38;5;124;43m'\u001b[39;49m\u001b[38;5;124;43mwho\u001b[39;49m\u001b[38;5;124;43m'\u001b[39;49m\u001b[43m,\u001b[49m\u001b[43m \u001b[49m\u001b[38;5;124;43m'\u001b[39;49m\u001b[38;5;124;43malive\u001b[39;49m\u001b[38;5;124;43m'\u001b[39;49m\u001b[43m]\u001b[49m\u001b[43m,\u001b[49m\u001b[43m \u001b[49m\u001b[43maxis\u001b[49m\u001b[38;5;241;43m=\u001b[39;49m\u001b[38;5;241;43m1\u001b[39;49m\u001b[43m,\u001b[49m\u001b[43m \u001b[49m\u001b[43minplace\u001b[49m\u001b[38;5;241;43m=\u001b[39;49m\u001b[38;5;28;43;01mTrue\u001b[39;49;00m\u001b[43m)\u001b[49m\u001b[38;5;241;43m.\u001b[39;49m\u001b[43mhead\u001b[49m(\u001b[38;5;241m1\u001b[39m)\n\u001b[0;32m      2\u001b[0m \u001b[38;5;66;03m# inplace=True 원본에 적용 다양한 함수에 있음\u001b[39;00m\n",
      "\u001b[1;31mAttributeError\u001b[0m: 'NoneType' object has no attribute 'head'"
     ]
    }
   ],
   "source": [
    "df1.drop(['class', 'who', 'alive'], axis=1, inplace=True).head(1)\n",
    "# inplace=True 원본에 적용 다양한 함수에 있음"
   ]
  },
  {
   "cell_type": "markdown",
   "id": "95909fbe-826f-475b-b7e7-f7c70a01a896",
   "metadata": {},
   "source": [
    "### 컬럼 연산\n"
   ]
  },
  {
   "cell_type": "code",
   "execution_count": 54,
   "id": "7ea84f78-0d99-4be9-b8df-402dc46d4787",
   "metadata": {},
   "outputs": [],
   "source": [
    "df1 = df.copy()"
   ]
  },
  {
   "cell_type": "code",
   "execution_count": 45,
   "id": "8f17f018-59bd-4b79-9e54-b5c3ee9747c8",
   "metadata": {},
   "outputs": [],
   "source": [
    "df1['family'] = df1['sibsp'] + df1['parch']"
   ]
  },
  {
   "cell_type": "code",
   "execution_count": 46,
   "id": "364183b9-ca2d-4fef-8e9e-c714156caa09",
   "metadata": {},
   "outputs": [],
   "source": [
    "# 내용이 있는 컬럼은 '특성' '피처' 등으로 불림 '특성공학'"
   ]
  },
  {
   "cell_type": "code",
   "execution_count": 47,
   "id": "7339fbd1-626d-4a35-ab92-ded52701ad2e",
   "metadata": {},
   "outputs": [],
   "source": [
    "# 글자도 가능"
   ]
  },
  {
   "cell_type": "markdown",
   "id": "53f41f5e-9842-42ab-b938-aae8d58508d8",
   "metadata": {},
   "source": [
    "## 타입 변환"
   ]
  },
  {
   "cell_type": "code",
   "execution_count": 58,
   "id": "09f27dff-1a89-4ebc-8484-cd8f98df5e3d",
   "metadata": {},
   "outputs": [],
   "source": [
    "df1 = df.copy()"
   ]
  },
  {
   "cell_type": "code",
   "execution_count": 66,
   "id": "ab463cb8-b501-4d4c-b1ac-2d98bf68ff98",
   "metadata": {},
   "outputs": [],
   "source": [
    "df1['who'] = df1['who'].astype('category')\n",
    "# 원본 유지"
   ]
  },
  {
   "cell_type": "code",
   "execution_count": 67,
   "id": "cc3a2e3d-e212-4d31-874d-263d27470aca",
   "metadata": {},
   "outputs": [
    {
     "data": {
      "text/plain": [
       "CategoricalDtype(categories=['child', 'man', 'woman'], ordered=False, categories_dtype=object)"
      ]
     },
     "execution_count": 67,
     "metadata": {},
     "output_type": "execute_result"
    }
   ],
   "source": [
    "df1['who'].dtype"
   ]
  },
  {
   "cell_type": "code",
   "execution_count": 70,
   "id": "8a73ccbf-050e-48f9-afd6-c5dce03422c5",
   "metadata": {},
   "outputs": [
    {
     "data": {
      "text/plain": [
       "who\n",
       "man      537\n",
       "woman    271\n",
       "child     83\n",
       "Name: count, dtype: int64"
      ]
     },
     "execution_count": 70,
     "metadata": {},
     "output_type": "execute_result"
    }
   ],
   "source": [
    "df1['who'].cat.rename_categories(['아이', '남성', '여성'])\n",
    "df1['who'].value_counts()"
   ]
  },
  {
   "cell_type": "markdown",
   "id": "88a6ef68-4d61-4c77-b53d-a60e8e9200ef",
   "metadata": {},
   "source": [
    "### datetime\n"
   ]
  },
  {
   "cell_type": "code",
   "execution_count": 73,
   "id": "ac15417e-c3d7-42ee-939c-fdfe383c90be",
   "metadata": {},
   "outputs": [
    {
     "data": {
      "text/plain": [
       "DatetimeIndex(['2024-01-01 00:00:00', '2024-01-01 10:00:00',\n",
       "               '2024-01-01 20:00:00', '2024-01-02 06:00:00',\n",
       "               '2024-01-02 16:00:00', '2024-01-03 02:00:00',\n",
       "               '2024-01-03 12:00:00', '2024-01-03 22:00:00',\n",
       "               '2024-01-04 08:00:00', '2024-01-04 18:00:00',\n",
       "               ...\n",
       "               '2025-01-02 02:00:00', '2025-01-02 12:00:00',\n",
       "               '2025-01-02 22:00:00', '2025-01-03 08:00:00',\n",
       "               '2025-01-03 18:00:00', '2025-01-04 04:00:00',\n",
       "               '2025-01-04 14:00:00', '2025-01-05 00:00:00',\n",
       "               '2025-01-05 10:00:00', '2025-01-05 20:00:00'],\n",
       "              dtype='datetime64[ns]', length=891, freq='10h')"
      ]
     },
     "execution_count": 73,
     "metadata": {},
     "output_type": "execute_result"
    }
   ],
   "source": [
    "dates = pd.date_range('20240101', periods=df.shape[0], freq='10h')\n",
    "dates"
   ]
  },
  {
   "cell_type": "code",
   "execution_count": 74,
   "id": "1fc72fca-ca0c-4cbe-b66f-e3ee2db6dcbf",
   "metadata": {},
   "outputs": [],
   "source": [
    "df1['date'] = dates"
   ]
  },
  {
   "cell_type": "code",
   "execution_count": 99,
   "id": "901cfff2-762d-4fc9-98ae-cc273b5005a6",
   "metadata": {},
   "outputs": [],
   "source": [
    "# datetime 의 다양한 기능"
   ]
  },
  {
   "cell_type": "markdown",
   "id": "a5ef1d77-960a-42c4-9f43-78f381e54ea4",
   "metadata": {},
   "source": [
    "## to_datetime"
   ]
  },
  {
   "cell_type": "code",
   "execution_count": 78,
   "id": "2c7536d8-3cdb-42d4-9151-231a57d3f8db",
   "metadata": {},
   "outputs": [
    {
     "data": {
      "text/html": [
       "<div>\n",
       "<style scoped>\n",
       "    .dataframe tbody tr th:only-of-type {\n",
       "        vertical-align: middle;\n",
       "    }\n",
       "\n",
       "    .dataframe tbody tr th {\n",
       "        vertical-align: top;\n",
       "    }\n",
       "\n",
       "    .dataframe thead th {\n",
       "        text-align: right;\n",
       "    }\n",
       "</style>\n",
       "<table border=\"1\" class=\"dataframe\">\n",
       "  <thead>\n",
       "    <tr style=\"text-align: right;\">\n",
       "      <th></th>\n",
       "      <th>대여일자</th>\n",
       "      <th>대여소번호</th>\n",
       "      <th>대여소명</th>\n",
       "      <th>대여구분코드</th>\n",
       "      <th>성별</th>\n",
       "      <th>연령대코드</th>\n",
       "      <th>이용건수</th>\n",
       "      <th>운동량</th>\n",
       "      <th>탄소량</th>\n",
       "      <th>이동거리</th>\n",
       "      <th>이용시간</th>\n",
       "    </tr>\n",
       "  </thead>\n",
       "  <tbody>\n",
       "    <tr>\n",
       "      <th>0</th>\n",
       "      <td>Jan-20-2020</td>\n",
       "      <td>3</td>\n",
       "      <td>중랑센터</td>\n",
       "      <td>일일(회원)</td>\n",
       "      <td>M</td>\n",
       "      <td>AGE_003</td>\n",
       "      <td>3</td>\n",
       "      <td>61.82</td>\n",
       "      <td>0.52</td>\n",
       "      <td>2230.0</td>\n",
       "      <td>75</td>\n",
       "    </tr>\n",
       "    <tr>\n",
       "      <th>1</th>\n",
       "      <td>Jan-20-2020</td>\n",
       "      <td>3</td>\n",
       "      <td>중랑센터</td>\n",
       "      <td>일일(회원)</td>\n",
       "      <td>M</td>\n",
       "      <td>AGE_004</td>\n",
       "      <td>1</td>\n",
       "      <td>39.62</td>\n",
       "      <td>0.28</td>\n",
       "      <td>1220.0</td>\n",
       "      <td>15</td>\n",
       "    </tr>\n",
       "    <tr>\n",
       "      <th>2</th>\n",
       "      <td>Jan-20-2020</td>\n",
       "      <td>3</td>\n",
       "      <td>중랑센터</td>\n",
       "      <td>정기</td>\n",
       "      <td>M</td>\n",
       "      <td>AGE_005</td>\n",
       "      <td>3</td>\n",
       "      <td>430.85</td>\n",
       "      <td>4.01</td>\n",
       "      <td>17270.0</td>\n",
       "      <td>53</td>\n",
       "    </tr>\n",
       "    <tr>\n",
       "      <th>3</th>\n",
       "      <td>Jan-20-2020</td>\n",
       "      <td>5</td>\n",
       "      <td>상암센터 정비실</td>\n",
       "      <td>일일(회원)</td>\n",
       "      <td>\\N</td>\n",
       "      <td>AGE_005</td>\n",
       "      <td>2</td>\n",
       "      <td>1.79</td>\n",
       "      <td>0.02</td>\n",
       "      <td>90.0</td>\n",
       "      <td>33</td>\n",
       "    </tr>\n",
       "    <tr>\n",
       "      <th>4</th>\n",
       "      <td>Jan-20-2020</td>\n",
       "      <td>5</td>\n",
       "      <td>상암센터 정비실</td>\n",
       "      <td>정기</td>\n",
       "      <td>F</td>\n",
       "      <td>AGE_003</td>\n",
       "      <td>1</td>\n",
       "      <td>4501.96</td>\n",
       "      <td>45.47</td>\n",
       "      <td>196010.0</td>\n",
       "      <td>64</td>\n",
       "    </tr>\n",
       "  </tbody>\n",
       "</table>\n",
       "</div>"
      ],
      "text/plain": [
       "          대여일자  대여소번호      대여소명  대여구분코드  성별    연령대코드  이용건수      운동량    탄소량  \\\n",
       "0  Jan-20-2020      3      중랑센터  일일(회원)   M  AGE_003     3    61.82   0.52   \n",
       "1  Jan-20-2020      3      중랑센터  일일(회원)   M  AGE_004     1    39.62   0.28   \n",
       "2  Jan-20-2020      3      중랑센터      정기   M  AGE_005     3   430.85   4.01   \n",
       "3  Jan-20-2020      5  상암센터 정비실  일일(회원)  \\N  AGE_005     2     1.79   0.02   \n",
       "4  Jan-20-2020      5  상암센터 정비실      정기   F  AGE_003     1  4501.96  45.47   \n",
       "\n",
       "       이동거리  이용시간  \n",
       "0    2230.0    75  \n",
       "1    1220.0    15  \n",
       "2   17270.0    53  \n",
       "3      90.0    33  \n",
       "4  196010.0    64  "
      ]
     },
     "execution_count": 78,
     "metadata": {},
     "output_type": "execute_result"
    }
   ],
   "source": [
    "df = pd.read_csv('data/seoul_bicycle.csv')\n",
    "df.head()"
   ]
  },
  {
   "cell_type": "code",
   "execution_count": null,
   "id": "6e9a8095-42d1-4567-b380-3040e447e376",
   "metadata": {},
   "outputs": [],
   "source": []
  },
  {
   "cell_type": "code",
   "execution_count": 94,
   "id": "f656c00a-ec4c-4ca6-8396-32abd9a285ba",
   "metadata": {},
   "outputs": [],
   "source": [
    "df1 = df.copy()"
   ]
  },
  {
   "cell_type": "code",
   "execution_count": 95,
   "id": "20094eb1-7e86-4a77-a626-e48b0ad873fe",
   "metadata": {},
   "outputs": [],
   "source": [
    "pd.to_datetime(df['대여일자'])\n",
    "df['대여일자'] = pd.to_datetime(df['대여일자'], format='%b-%d-%Y')"
   ]
  },
  {
   "cell_type": "code",
   "execution_count": 108,
   "id": "8c005ec2-d9fe-4919-95d4-1f72d92ff2af",
   "metadata": {},
   "outputs": [
    {
     "name": "stdout",
     "output_type": "stream",
     "text": [
      "<class 'pandas.core.frame.DataFrame'>\n",
      "RangeIndex: 327231 entries, 0 to 327230\n",
      "Data columns (total 11 columns):\n",
      " #   Column  Non-Null Count   Dtype         \n",
      "---  ------  --------------   -----         \n",
      " 0   대여일자    327231 non-null  datetime64[ns]\n",
      " 1   대여소번호   327231 non-null  int64         \n",
      " 2   대여소명    327231 non-null  object        \n",
      " 3   대여구분코드  327231 non-null  object        \n",
      " 4   성별      272841 non-null  object        \n",
      " 5   연령대코드   327231 non-null  object        \n",
      " 6   이용건수    327231 non-null  int64         \n",
      " 7   운동량     327231 non-null  object        \n",
      " 8   탄소량     327231 non-null  object        \n",
      " 9   이동거리    327231 non-null  float64       \n",
      " 10  이용시간    327231 non-null  int64         \n",
      "dtypes: datetime64[ns](1), float64(1), int64(3), object(6)\n",
      "memory usage: 27.5+ MB\n"
     ]
    }
   ],
   "source": [
    "df.info()"
   ]
  },
  {
   "cell_type": "code",
   "execution_count": 97,
   "id": "f7154100-c28a-4af6-af66-4350a2188a15",
   "metadata": {},
   "outputs": [
    {
     "data": {
      "text/plain": [
       "0    2020\n",
       "1    2020\n",
       "2    2020\n",
       "3    2020\n",
       "4    2020\n",
       "Name: 대여일자, dtype: int32"
      ]
     },
     "execution_count": 97,
     "metadata": {},
     "output_type": "execute_result"
    }
   ],
   "source": [
    "df1['대여일자'].dt.year.head()"
   ]
  },
  {
   "cell_type": "code",
   "execution_count": 105,
   "id": "94d3a1be-574c-409d-89b7-77bdc14b79ee",
   "metadata": {},
   "outputs": [],
   "source": [
    "df1['운동량'] = pd.to_numeric(df1['운동량'], errors='coerce')"
   ]
  },
  {
   "cell_type": "code",
   "execution_count": 106,
   "id": "fe78fef0-b507-429d-ad8c-8019e2dde28f",
   "metadata": {},
   "outputs": [
    {
     "data": {
      "text/plain": [
       "대여일자      2020-01-20 00:00:00\n",
       "대여소번호                     165\n",
       "대여소명              165. 중앙근린공원\n",
       "대여구분코드                 일일(회원)\n",
       "성별                         \\N\n",
       "연령대코드                 AGE_003\n",
       "이용건수                        1\n",
       "운동량                       NaN\n",
       "탄소량                        \\N\n",
       "이동거리                      0.0\n",
       "이용시간                       40\n",
       "Name: 2344, dtype: object"
      ]
     },
     "execution_count": 106,
     "metadata": {},
     "output_type": "execute_result"
    }
   ],
   "source": [
    "df1.loc[2344]"
   ]
  },
  {
   "cell_type": "code",
   "execution_count": 126,
   "id": "ec0381b2-f046-4d38-9922-3a60b08e34a2",
   "metadata": {},
   "outputs": [
    {
     "data": {
      "text/plain": [
       "운동량\n",
       "적음    165919\n",
       "많음     74885\n",
       "보통     40331\n",
       "초과     19307\n",
       "불가       355\n",
       "Name: count, dtype: int64"
      ]
     },
     "execution_count": 126,
     "metadata": {},
     "output_type": "execute_result"
    }
   ],
   "source": [
    "bins = [0, 1000, 2000, 10000, 100000, df1['운동량'].max()]\n",
    "pd.cut(df1['운동량'], bins).value_counts()\n",
    "pd.cut(df1['운동량'], bins, labels=['적음', '보통', '많음', '초과', '불가']).value_counts()\n"
   ]
  },
  {
   "cell_type": "code",
   "execution_count": 128,
   "id": "22d62abf-a2f1-4511-8b31-17f6804e1d2c",
   "metadata": {},
   "outputs": [
    {
     "data": {
      "text/plain": [
       "운동량_cut\n",
       "(-163936.052, 16393605.23]      326816\n",
       "(98361631.38, 114755236.61]          9\n",
       "(32787210.46, 49180815.69]           2\n",
       "(16393605.23, 32787210.46]           1\n",
       "(114755236.61, 131148841.84]         1\n",
       "(147542447.07, 163936052.3]          1\n",
       "(81968026.15, 98361631.38]           0\n",
       "(65574420.92, 81968026.15]           0\n",
       "(49180815.69, 65574420.92]           0\n",
       "(131148841.84, 147542447.07]         0\n",
       "Name: count, dtype: int64"
      ]
     },
     "execution_count": 128,
     "metadata": {},
     "output_type": "execute_result"
    }
   ],
   "source": [
    "# 범위 균등 cut (값을 기준으로)\n",
    "df1['운동량_cut'] = pd.cut(df1['운동량'], bins=10)\n",
    "df1['운동량_cut'].value_counts()\n",
    "# 이상치로 문제 발생"
   ]
  },
  {
   "cell_type": "code",
   "execution_count": 129,
   "id": "d1abc64b-1b71-4c7d-bf11-ac51bb7d2926",
   "metadata": {},
   "outputs": [
    {
     "data": {
      "text/plain": [
       "운동량_qcut\n",
       "(93.414, 192.02]           32690\n",
       "(-0.001, 24.737]           32683\n",
       "(24.737, 93.414]           32683\n",
       "(601.705, 1079.744]        32683\n",
       "(1889.606, 3328.186]       32683\n",
       "(1079.744, 1889.606]       32683\n",
       "(3328.186, 6805.188]       32683\n",
       "(6805.188, 163936052.3]    32683\n",
       "(344.45, 601.705]          32680\n",
       "(192.02, 344.45]           32679\n",
       "Name: count, dtype: int64"
      ]
     },
     "execution_count": 129,
     "metadata": {},
     "output_type": "execute_result"
    }
   ],
   "source": [
    "# 해당 value 균등 cut (범위를 기준으로)\n",
    "df1['운동량_qcut'] = pd.qcut(df1['운동량'], q=10)\n",
    "df1['운동량_qcut'].value_counts()"
   ]
  },
  {
   "cell_type": "code",
   "execution_count": 139,
   "id": "59b2629f-faaa-4b6d-b3d9-74ff8e59577d",
   "metadata": {},
   "outputs": [
    {
     "data": {
      "text/plain": [
       "운동량\n",
       "미미    300783\n",
       "중대        10\n",
       "중소         2\n",
       "소          1\n",
       "극대         1\n",
       "대          0\n",
       "Name: count, dtype: int64"
      ]
     },
     "execution_count": 139,
     "metadata": {},
     "output_type": "execute_result"
    }
   ],
   "source": [
    "qcut_bins = [0, 0.1, 0.2, 0.5, 0.8, 0.9, 1]\n",
    "pd.qcut(df1['운동량'], qcut_bins, labels=['미미', '소', '중소','중대','대','극대']).value_counts()"
   ]
  },
  {
   "cell_type": "code",
   "execution_count": 140,
   "id": "db4b51b1-c247-4ee2-a366-97edead4c867",
   "metadata": {},
   "outputs": [],
   "source": [
    "# 범위 ( 불포함  [포함"
   ]
  },
  {
   "cell_type": "code",
   "execution_count": null,
   "id": "952fd370-0624-4cb8-a09e-15ffd387d6ef",
   "metadata": {},
   "outputs": [],
   "source": []
  }
 ],
 "metadata": {
  "kernelspec": {
   "display_name": "Python 3 (ipykernel)",
   "language": "python",
   "name": "python3"
  },
  "language_info": {
   "codemirror_mode": {
    "name": "ipython",
    "version": 3
   },
   "file_extension": ".py",
   "mimetype": "text/x-python",
   "name": "python",
   "nbconvert_exporter": "python",
   "pygments_lexer": "ipython3",
   "version": "3.12.4"
  }
 },
 "nbformat": 4,
 "nbformat_minor": 5
}
