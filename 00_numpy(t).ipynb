{
 "cells": [
  {
   "cell_type": "code",
   "execution_count": 2,
   "id": "6c64425b-2072-469e-922c-b3a447b5438c",
   "metadata": {},
   "outputs": [],
   "source": [
    "import numpy as np"
   ]
  },
  {
   "cell_type": "code",
   "execution_count": 6,
   "id": "7781d900-8cdd-46a5-b508-61decfccc420",
   "metadata": {},
   "outputs": [],
   "source": [
    "my_arr = np.arange(1000000)\n",
    "my_list = list(range(1000000))"
   ]
  },
  {
   "cell_type": "code",
   "execution_count": 8,
   "id": "a4732b93-54db-4159-9122-ddb050b149aa",
   "metadata": {},
   "outputs": [
    {
     "name": "stdout",
     "output_type": "stream",
     "text": [
      "1.97 ms ± 15.4 μs per loop (mean ± std. dev. of 7 runs, 100 loops each)\n",
      "53.5 ms ± 1.67 ms per loop (mean ± std. dev. of 7 runs, 10 loops each)\n"
     ]
    }
   ],
   "source": [
    "%timeit my_arr2 = my_arr * 2\n",
    "%timeit my_list2 = [x * 2 for x in my_list]"
   ]
  },
  {
   "cell_type": "code",
   "execution_count": 10,
   "id": "32c608f9-e64e-4f1e-a97a-fcd70475315e",
   "metadata": {},
   "outputs": [
    {
     "name": "stdout",
     "output_type": "stream",
     "text": [
      "[[   5.     1.1   -5. ]\n",
      " [ 123.  -123.     0. ]]\n"
     ]
    }
   ],
   "source": [
    "a = [\n",
    "    [5, 1.1, -5],\n",
    "    [123, -123, 0]\n",
    "]\n",
    "data = np.array(a)\n",
    "print(data)"
   ]
  },
  {
   "cell_type": "code",
   "execution_count": 13,
   "id": "c6bb1bbb-aaf3-4c38-925b-d3352cc3316a",
   "metadata": {},
   "outputs": [
    {
     "name": "stdout",
     "output_type": "stream",
     "text": [
      "[[   50.    11.   -50.]\n",
      " [ 1230. -1230.     0.]]\n",
      "[[  10.     2.2  -10. ]\n",
      " [ 246.  -246.     0. ]]\n"
     ]
    }
   ],
   "source": [
    "print(data * 10)\n",
    "print(data + data)"
   ]
  },
  {
   "cell_type": "code",
   "execution_count": 16,
   "id": "b90734a9-024b-48b5-b5b5-feea99df4bf7",
   "metadata": {},
   "outputs": [
    {
     "name": "stdout",
     "output_type": "stream",
     "text": [
      "(2, 3)\n",
      "float64\n"
     ]
    }
   ],
   "source": [
    "print(data.shape)\n",
    "print(data.dtype)"
   ]
  },
  {
   "cell_type": "markdown",
   "id": "00f42ef0-a858-4eb4-9160-40a8f9ebb4d1",
   "metadata": {},
   "source": [
    "## 1.1 ndarray 생성"
   ]
  },
  {
   "cell_type": "code",
   "execution_count": 19,
   "id": "ac3a644d-22dd-4ac8-a37f-116a7d38b5ad",
   "metadata": {},
   "outputs": [
    {
     "name": "stdout",
     "output_type": "stream",
     "text": [
      "[4.  1.  2.  6.  3.1]\n"
     ]
    }
   ],
   "source": [
    "my_list = [4, 1, 2, 6, 3.1]\n",
    "arr = np.array(my_list)\n",
    "print(arr)"
   ]
  },
  {
   "cell_type": "code",
   "execution_count": 20,
   "id": "cba726e6-ce9a-47da-b1e7-cbad23aa0101",
   "metadata": {},
   "outputs": [
    {
     "name": "stdout",
     "output_type": "stream",
     "text": [
      "[[1 2 3 4]\n",
      " [5 6 7 8]]\n"
     ]
    }
   ],
   "source": [
    "my_list2 = [[1, 2, 3, 4], [5, 6, 7, 8]]\n",
    "arr2 = np.array(my_list2)\n",
    "print(arr2)"
   ]
  },
  {
   "cell_type": "code",
   "execution_count": 22,
   "id": "ae25e91c-caa9-4ceb-a095-2e4d01457865",
   "metadata": {},
   "outputs": [
    {
     "name": "stdout",
     "output_type": "stream",
     "text": [
      "float64\n",
      "int64\n"
     ]
    }
   ],
   "source": [
    "print(arr.dtype)\n",
    "print(arr2.dtype)"
   ]
  },
  {
   "cell_type": "code",
   "execution_count": 23,
   "id": "7b68e4ab-34f1-40ae-8690-08094679d52b",
   "metadata": {},
   "outputs": [
    {
     "name": "stdout",
     "output_type": "stream",
     "text": [
      "1\n",
      "2\n"
     ]
    }
   ],
   "source": [
    "print(arr.ndim)\n",
    "print(arr2.ndim)"
   ]
  },
  {
   "cell_type": "code",
   "execution_count": 24,
   "id": "c63a581f-01ac-443c-a0f2-2b364e300df4",
   "metadata": {},
   "outputs": [
    {
     "name": "stdout",
     "output_type": "stream",
     "text": [
      "(5,)\n",
      "(2, 4)\n"
     ]
    }
   ],
   "source": [
    "print(arr.shape)\n",
    "print(arr2.shape)"
   ]
  },
  {
   "cell_type": "code",
   "execution_count": 29,
   "id": "f22cf179-078d-4b64-b124-bdf83c86b3d7",
   "metadata": {},
   "outputs": [
    {
     "name": "stdout",
     "output_type": "stream",
     "text": [
      "[0. 0. 0. 0. 0. 0. 0. 0. 0. 0.]\n",
      "[[0. 0. 0. 0. 0.]\n",
      " [0. 0. 0. 0. 0.]\n",
      " [0. 0. 0. 0. 0.]\n",
      " [0. 0. 0. 0. 0.]\n",
      " [0. 0. 0. 0. 0.]]\n",
      "[[[6.23042070e-307 4.67296746e-307 1.69121096e-306 8.90067740e-308]\n",
      "  [9.34577196e-307 1.37962456e-306 3.22647253e-307 7.56601165e-307]\n",
      "  [1.69118787e-306 1.33511290e-306 1.11258854e-306 1.11261502e-306]]\n",
      "\n",
      " [[1.42410839e-306 7.56597770e-307 6.23059726e-307 1.11260483e-306]\n",
      "  [9.79107193e-307 1.33511290e-306 1.02359645e-306 1.86919785e-306]\n",
      "  [7.56587585e-307 1.78020984e-306 1.37961709e-306 2.22522596e-306]]]\n"
     ]
    }
   ],
   "source": [
    "print(np.zeros(10))\n",
    "print(np.zeros((5, 5)))\n",
    "print(np.empty((2, 3, 4)))"
   ]
  },
  {
   "cell_type": "code",
   "execution_count": 30,
   "id": "1f33449b-06c7-4e44-ab94-f7dcbd1f6058",
   "metadata": {},
   "outputs": [
    {
     "name": "stdout",
     "output_type": "stream",
     "text": [
      "[ 0  1  2  3  4  5  6  7  8  9 10 11]\n"
     ]
    }
   ],
   "source": [
    "print(np.arange(12))"
   ]
  },
  {
   "cell_type": "markdown",
   "id": "a67efee6-e06e-4230-9ee1-3544694bf301",
   "metadata": {},
   "source": [
    "## 1.2 자료형"
   ]
  },
  {
   "cell_type": "code",
   "execution_count": 32,
   "id": "580315eb-a612-4c8c-be80-d8d03d547bfd",
   "metadata": {},
   "outputs": [
    {
     "name": "stdout",
     "output_type": "stream",
     "text": [
      "float64\n",
      "int32\n"
     ]
    }
   ],
   "source": [
    "arr1 = np.array([1, 2, 3], dtype=np.float64)\n",
    "arr2 = np.array([1, 2, 3], dtype=np.int32)\n",
    "\n",
    "print(arr1.dtype)\n",
    "print(arr2.dtype)"
   ]
  },
  {
   "cell_type": "code",
   "execution_count": 34,
   "id": "0c038f76-7893-4236-887b-e33d01eeac53",
   "metadata": {},
   "outputs": [
    {
     "name": "stdout",
     "output_type": "stream",
     "text": [
      "[1 2 3 4 5]\n",
      "[1. 2. 3. 4. 5.]\n",
      "float32\n"
     ]
    }
   ],
   "source": [
    "arr = np.array([1, 2, 3, 4, 5])\n",
    "print(arr)\n",
    "float_arr = arr.astype(np.float32)\n",
    "print(float_arr)\n",
    "print(float_arr.dtype)"
   ]
  },
  {
   "cell_type": "code",
   "execution_count": 35,
   "id": "87b817b9-92c0-46c8-9e25-3a9c6380c0e9",
   "metadata": {},
   "outputs": [
    {
     "name": "stdout",
     "output_type": "stream",
     "text": [
      "[ 1  2  3 -1 -2 -3]\n"
     ]
    }
   ],
   "source": [
    "arr = np.array([1.1, 2.2, 3.3, -1.1, -2.2, -3.3])\n",
    "result = arr.astype(np.int32)\n",
    "print(result)"
   ]
  },
  {
   "cell_type": "code",
   "execution_count": 36,
   "id": "2bf77a16-0636-47e4-b07c-7db951de3737",
   "metadata": {},
   "outputs": [
    {
     "name": "stdout",
     "output_type": "stream",
     "text": [
      "[12 34 56]\n"
     ]
    }
   ],
   "source": [
    "result = np.array(['12', '34', '56'], dtype=np.int32)\n",
    "print(result)"
   ]
  },
  {
   "cell_type": "markdown",
   "id": "7171ae84-1ae8-4412-8335-58638f3c87bb",
   "metadata": {},
   "source": [
    "## 1.3 연산"
   ]
  },
  {
   "cell_type": "code",
   "execution_count": 38,
   "id": "fdd0548c-a112-4eee-bc7c-439392d5294c",
   "metadata": {},
   "outputs": [],
   "source": [
    "a = [\n",
    "    [1, 2, 3],\n",
    "    [4, 5, 6]\n",
    "]\n",
    "arr = np.array(a)"
   ]
  },
  {
   "cell_type": "code",
   "execution_count": 39,
   "id": "38424a09-5e56-43ac-84a0-d495dd74af1f",
   "metadata": {},
   "outputs": [
    {
     "name": "stdout",
     "output_type": "stream",
     "text": [
      "[[1 2 3]\n",
      " [4 5 6]]\n"
     ]
    }
   ],
   "source": [
    "print(arr)"
   ]
  },
  {
   "cell_type": "code",
   "execution_count": 41,
   "id": "3d48b94b-2fec-44c6-83dc-7ec87e62c676",
   "metadata": {},
   "outputs": [
    {
     "name": "stdout",
     "output_type": "stream",
     "text": [
      "[[ 2  4  6]\n",
      " [ 8 10 12]]\n",
      "[[0 0 0]\n",
      " [0 0 0]]\n"
     ]
    }
   ],
   "source": [
    "print(arr + arr)\n",
    "print(arr - arr)"
   ]
  },
  {
   "cell_type": "code",
   "execution_count": 44,
   "id": "7ba85d4f-9517-4785-b934-8d1c9f529c97",
   "metadata": {},
   "outputs": [
    {
     "name": "stdout",
     "output_type": "stream",
     "text": [
      "[[0.1 0.2 0.3]\n",
      " [0.4 0.5 0.6]]\n",
      "[[ 1  4  9]\n",
      " [16 25 36]]\n"
     ]
    }
   ],
   "source": [
    "print(arr / 10)\n",
    "print(arr ** 2)"
   ]
  },
  {
   "cell_type": "code",
   "execution_count": 46,
   "id": "6c2c8bd3-a992-4c9f-9e30-50bec16fda06",
   "metadata": {},
   "outputs": [
    {
     "name": "stdout",
     "output_type": "stream",
     "text": [
      "[[1 2 3]\n",
      " [4 5 6]]\n",
      "[[3 2 1]\n",
      " [6 5 4]]\n",
      "[[False False  True]\n",
      " [False False  True]]\n"
     ]
    }
   ],
   "source": [
    "b = [\n",
    "    [3, 2, 1],\n",
    "    [6, 5, 4]\n",
    "]\n",
    "arr2 = np.array(b)\n",
    "\n",
    "print(arr)\n",
    "print(arr2)\n",
    "print(arr > arr2)"
   ]
  },
  {
   "cell_type": "markdown",
   "id": "45b15459-c365-49d3-998d-20bf40f84835",
   "metadata": {},
   "source": [
    "## 1.4 인덱싱, 슬라이싱"
   ]
  },
  {
   "cell_type": "code",
   "execution_count": 51,
   "id": "51dd6674-ff91-494b-a1d6-d0c45b7833cc",
   "metadata": {},
   "outputs": [
    {
     "name": "stdout",
     "output_type": "stream",
     "text": [
      "[0 1 2 3 4 5 6 7 8 9]\n",
      "5\n",
      "[3 4 5]\n",
      "[ 0  1  2 99 99 99  6  7  8  9]\n"
     ]
    }
   ],
   "source": [
    "arr = np.arange(10)\n",
    "print(arr)\n",
    "print(arr[5])\n",
    "print(arr[3:6])\n",
    "\n",
    "arr[3:6] = 99\n",
    "print(arr)"
   ]
  },
  {
   "cell_type": "code",
   "execution_count": 53,
   "id": "f996dac1-4f27-4c04-ad41-5409acf33ca1",
   "metadata": {},
   "outputs": [
    {
     "name": "stdout",
     "output_type": "stream",
     "text": [
      "[99 99 99]\n"
     ]
    }
   ],
   "source": [
    "slice_arr = arr[3:6]\n",
    "print(slice_arr)"
   ]
  },
  {
   "cell_type": "code",
   "execution_count": 54,
   "id": "6fb602ab-3347-4d3c-b9e5-794c8c5dba39",
   "metadata": {},
   "outputs": [
    {
     "name": "stdout",
     "output_type": "stream",
     "text": [
      "[99 55 99]\n",
      "[ 0  1  2 99 55 99  6  7  8  9]\n"
     ]
    }
   ],
   "source": [
    "slice_arr[1] = 55\n",
    "print(slice_arr)\n",
    "print(arr)"
   ]
  },
  {
   "cell_type": "code",
   "execution_count": 58,
   "id": "4af0b7a3-d0a9-42b8-bf20-52df4a5a41b5",
   "metadata": {},
   "outputs": [
    {
     "name": "stdout",
     "output_type": "stream",
     "text": [
      "[[1 2 3]\n",
      " [4 5 6]\n",
      " [7 8 9]]\n"
     ]
    }
   ],
   "source": [
    "slice_arr[:] = 100\n",
    "print(arr)"
   ]
  },
  {
   "cell_type": "code",
   "execution_count": 59,
   "id": "d110edab-ec0f-463e-8a3d-be6e57e2b43d",
   "metadata": {},
   "outputs": [],
   "source": [
    "a = [\n",
    "    [1, 2, 3], \n",
    "    [4, 5, 6],\n",
    "    [7, 8, 9]\n",
    "]\n",
    "arr = np.array(a)"
   ]
  },
  {
   "cell_type": "code",
   "execution_count": 62,
   "id": "9ed7db03-ec9e-45fa-a016-05f05962c059",
   "metadata": {},
   "outputs": [
    {
     "name": "stdout",
     "output_type": "stream",
     "text": [
      "5\n",
      "5\n"
     ]
    }
   ],
   "source": [
    "print(arr[1][1])\n",
    "print(arr[1, 1])"
   ]
  },
  {
   "cell_type": "code",
   "execution_count": 64,
   "id": "8bb8fc30-89f2-4a41-9542-32a229012b48",
   "metadata": {},
   "outputs": [
    {
     "name": "stdout",
     "output_type": "stream",
     "text": [
      "[[[ 1  2  3]\n",
      "  [ 4  5  6]]\n",
      "\n",
      " [[ 7  8  9]\n",
      "  [10 11 12]]]\n"
     ]
    }
   ],
   "source": [
    "a = [\n",
    "        [\n",
    "            [1, 2, 3],\n",
    "            [4, 5, 6]\n",
    "        ],\n",
    "        [\n",
    "            [7, 8, 9],\n",
    "            [10, 11, 12]\n",
    "        \n",
    "        ]\n",
    "]\n",
    "arr = np.array(a)\n",
    "print(arr)"
   ]
  },
  {
   "cell_type": "code",
   "execution_count": 69,
   "id": "91386a20-c5bc-4eb3-9270-55d17bb4e5a9",
   "metadata": {},
   "outputs": [
    {
     "name": "stdout",
     "output_type": "stream",
     "text": [
      "[[1 2 3]\n",
      " [4 5 6]]\n",
      "1\n",
      "1\n"
     ]
    }
   ],
   "source": [
    "print(arr[0])\n",
    "print(arr[0][0][0])\n",
    "print(arr[0, 0][0])"
   ]
  },
  {
   "cell_type": "code",
   "execution_count": 75,
   "id": "e9389033-6f5e-4f76-97f5-c01fce4099cf",
   "metadata": {},
   "outputs": [
    {
     "data": {
      "text/plain": [
       "array([1, 2, 3, 4, 5, 6, 7, 8, 9])"
      ]
     },
     "execution_count": 75,
     "metadata": {},
     "output_type": "execute_result"
    }
   ],
   "source": [
    "arr = np.arange(10)\n",
    "arr[1:]"
   ]
  },
  {
   "cell_type": "code",
   "execution_count": 77,
   "id": "e9d60939-b0bf-462f-bd12-2c4b78a8b228",
   "metadata": {},
   "outputs": [
    {
     "data": {
      "text/plain": [
       "array([[0, 1, 2],\n",
       "       [3, 4, 5]])"
      ]
     },
     "execution_count": 77,
     "metadata": {},
     "output_type": "execute_result"
    }
   ],
   "source": [
    "arr2d = np.arange(9).reshape(3, 3)\n",
    "arr2d[:2]"
   ]
  },
  {
   "cell_type": "code",
   "execution_count": 79,
   "id": "6c106e58-2c12-474d-8617-6b6dc7844dde",
   "metadata": {},
   "outputs": [
    {
     "name": "stdout",
     "output_type": "stream",
     "text": [
      "[[0 1 2]\n",
      " [3 4 5]\n",
      " [6 7 8]]\n"
     ]
    },
    {
     "data": {
      "text/plain": [
       "array([[1, 2],\n",
       "       [4, 5]])"
      ]
     },
     "execution_count": 79,
     "metadata": {},
     "output_type": "execute_result"
    }
   ],
   "source": [
    "print(arr2d)\n",
    "arr2d[:2, 1:]"
   ]
  },
  {
   "cell_type": "code",
   "execution_count": 80,
   "id": "87799a0f-59e4-4b3c-82c3-c89fff11513c",
   "metadata": {},
   "outputs": [
    {
     "data": {
      "text/plain": [
       "array([3, 4])"
      ]
     },
     "execution_count": 80,
     "metadata": {},
     "output_type": "execute_result"
    }
   ],
   "source": [
    "arr2d[1, :2]"
   ]
  },
  {
   "cell_type": "code",
   "execution_count": 83,
   "id": "e1304b6f-5ff9-41af-9f54-14394750020f",
   "metadata": {},
   "outputs": [
    {
     "name": "stdout",
     "output_type": "stream",
     "text": [
      "[[99  1  2]\n",
      " [99  4  5]\n",
      " [99  7  8]]\n"
     ]
    }
   ],
   "source": [
    "arr2d[:, :1] = 99\n",
    "print(arr2d)"
   ]
  },
  {
   "cell_type": "markdown",
   "id": "9d8acf87-36e5-4aad-aa01-167df26cf51a",
   "metadata": {},
   "source": [
    "## bool 값으로 선택"
   ]
  },
  {
   "cell_type": "code",
   "execution_count": 89,
   "id": "241ed7b5-8f5d-4524-8cbd-a7fccaa749c6",
   "metadata": {},
   "outputs": [],
   "source": [
    "names = ['hong', 'kim', 'park', 'kim']\n",
    "scores = [\n",
    "    ['수학', 70],\n",
    "    ['영어', 80],\n",
    "    ['수학', 100],\n",
    "    ['수학', 90],\n",
    "]\n",
    "names_arr = np.array(names)\n",
    "scores_arr = np.array(scores)"
   ]
  },
  {
   "cell_type": "code",
   "execution_count": 90,
   "id": "7516ad65-73da-453c-a884-c7716f266ab2",
   "metadata": {},
   "outputs": [
    {
     "name": "stdout",
     "output_type": "stream",
     "text": [
      "['hong' 'kim' 'park' 'kim']\n",
      "[['수학' '70']\n",
      " ['영어' '80']\n",
      " ['수학' '100']\n",
      " ['수학' '90']]\n"
     ]
    }
   ],
   "source": [
    "print(names_arr)\n",
    "print(scores_arr)"
   ]
  },
  {
   "cell_type": "code",
   "execution_count": 92,
   "id": "9e05809a-684f-413f-9b79-7de28f4ded32",
   "metadata": {},
   "outputs": [
    {
     "data": {
      "text/plain": [
       "array([False, False,  True, False])"
      ]
     },
     "execution_count": 92,
     "metadata": {},
     "output_type": "execute_result"
    }
   ],
   "source": [
    "names_arr == 'park'"
   ]
  },
  {
   "cell_type": "code",
   "execution_count": 94,
   "id": "f320cee4-69c2-4555-b861-af622b4badaf",
   "metadata": {},
   "outputs": [
    {
     "data": {
      "text/plain": [
       "array([['수학', '100']], dtype='<U21')"
      ]
     },
     "execution_count": 94,
     "metadata": {},
     "output_type": "execute_result"
    }
   ],
   "source": [
    "scores_arr[names_arr == 'park']"
   ]
  },
  {
   "cell_type": "code",
   "execution_count": 96,
   "id": "16d9e979-f115-408b-9d01-9d02e27b98ca",
   "metadata": {},
   "outputs": [
    {
     "data": {
      "text/plain": [
       "array([['80'],\n",
       "       ['90']], dtype='<U21')"
      ]
     },
     "execution_count": 96,
     "metadata": {},
     "output_type": "execute_result"
    }
   ],
   "source": [
    "scores_arr[names_arr == 'kim', 1:]"
   ]
  },
  {
   "cell_type": "code",
   "execution_count": 98,
   "id": "69f03636-a8f3-475e-9dbd-e0251e377897",
   "metadata": {},
   "outputs": [
    {
     "data": {
      "text/plain": [
       "array(['80', '90'], dtype='<U21')"
      ]
     },
     "execution_count": 98,
     "metadata": {},
     "output_type": "execute_result"
    }
   ],
   "source": [
    "scores_arr[names_arr == 'kim', 1]"
   ]
  },
  {
   "cell_type": "code",
   "execution_count": 101,
   "id": "6a58b5ce-6a0f-47ac-a7ea-310214e8d788",
   "metadata": {},
   "outputs": [
    {
     "name": "stdout",
     "output_type": "stream",
     "text": [
      "[ True False  True False]\n",
      "[ True False  True False]\n"
     ]
    }
   ],
   "source": [
    "print(names_arr != 'kim')\n",
    "print(~(names_arr == 'kim'))"
   ]
  },
  {
   "cell_type": "code",
   "execution_count": 102,
   "id": "f2197ad9-7740-4661-934b-d78fa884bc6d",
   "metadata": {},
   "outputs": [
    {
     "data": {
      "text/plain": [
       "array([['수학', '70']], dtype='<U21')"
      ]
     },
     "execution_count": 102,
     "metadata": {},
     "output_type": "execute_result"
    }
   ],
   "source": [
    "cond = names_arr == 'hong'\n",
    "scores_arr[cond]"
   ]
  },
  {
   "cell_type": "code",
   "execution_count": 105,
   "id": "2d1a3cae-8699-4bd7-bae2-c5e18069af8c",
   "metadata": {},
   "outputs": [
    {
     "data": {
      "text/plain": [
       "array([['영어', '80'],\n",
       "       ['수학', '100'],\n",
       "       ['수학', '90']], dtype='<U21')"
      ]
     },
     "execution_count": 105,
     "metadata": {},
     "output_type": "execute_result"
    }
   ],
   "source": [
    "cond = (names_arr == 'kim') | (names_arr == 'park')\n",
    "scores_arr[cond]"
   ]
  },
  {
   "cell_type": "markdown",
   "id": "1b0ed7c1-27c3-4258-bb33-9978a94b3aa2",
   "metadata": {},
   "source": [
    "## 1.6 팬시 인덱싱(fancy indexing)"
   ]
  },
  {
   "cell_type": "code",
   "execution_count": 112,
   "id": "2248f33f-1c2e-45b1-b014-3654ab66d482",
   "metadata": {},
   "outputs": [
    {
     "name": "stdout",
     "output_type": "stream",
     "text": [
      "[[ 0  1  2  3]\n",
      " [ 4  5  6  7]\n",
      " [ 8  9 10 11]\n",
      " [12 13 14 15]\n",
      " [16 17 18 19]\n",
      " [20 21 22 23]\n",
      " [24 25 26 27]\n",
      " [28 29 30 31]]\n"
     ]
    }
   ],
   "source": [
    "arr = np.arange(32).reshape(8, 4)\n",
    "print(arr)"
   ]
  },
  {
   "cell_type": "code",
   "execution_count": 114,
   "id": "ba0a691f-9956-48fc-b3cb-c719521c0a04",
   "metadata": {},
   "outputs": [
    {
     "name": "stdout",
     "output_type": "stream",
     "text": [
      "[[ 0  1  2  3]\n",
      " [12 13 14 15]\n",
      " [ 8  9 10 11]\n",
      " [ 4  5  6  7]\n",
      " [24 25 26 27]]\n"
     ]
    }
   ],
   "source": [
    "print(arr[[0, 3, 2, 1, 6]])"
   ]
  },
  {
   "cell_type": "code",
   "execution_count": 116,
   "id": "1efd2943-3183-40cb-9339-3db07c1f9ed9",
   "metadata": {},
   "outputs": [
    {
     "name": "stdout",
     "output_type": "stream",
     "text": [
      "[[20 21 22 23]\n",
      " [28 29 30 31]]\n"
     ]
    }
   ],
   "source": [
    "print(arr[[-3, -1]])"
   ]
  },
  {
   "cell_type": "code",
   "execution_count": 118,
   "id": "e279b56f-9b99-4df2-a69b-e53071e693b9",
   "metadata": {},
   "outputs": [
    {
     "name": "stdout",
     "output_type": "stream",
     "text": [
      "[[ 0  1  2  3]\n",
      " [ 4 99  6  7]\n",
      " [ 8  9 99 11]\n",
      " [12 13 14 99]\n",
      " [16 17 18 19]\n",
      " [20 21 22 23]\n",
      " [24 25 26 27]\n",
      " [28 29 30 31]]\n"
     ]
    }
   ],
   "source": [
    "arr[[3, 2, 1], [3, 2, 1]] = 99\n",
    "print(arr)"
   ]
  },
  {
   "cell_type": "markdown",
   "id": "080febfe-1f36-45e0-8e70-bd899cee8dbd",
   "metadata": {},
   "source": [
    "## 1.7 전치"
   ]
  },
  {
   "cell_type": "code",
   "execution_count": 121,
   "id": "e094d997-a8f5-4c57-9994-db5f40192475",
   "metadata": {},
   "outputs": [
    {
     "name": "stdout",
     "output_type": "stream",
     "text": [
      "[[ 0  1  2  3  4]\n",
      " [ 5  6  7  8  9]\n",
      " [10 11 12 13 14]]\n",
      "[[ 0  5 10]\n",
      " [ 1  6 11]\n",
      " [ 2  7 12]\n",
      " [ 3  8 13]\n",
      " [ 4  9 14]]\n"
     ]
    }
   ],
   "source": [
    "arr = np.arange(15).reshape(3, 5)\n",
    "print(arr)\n",
    "print(arr.T)"
   ]
  },
  {
   "cell_type": "code",
   "execution_count": 123,
   "id": "3704fe45-0263-4c35-979a-ea481efc2db7",
   "metadata": {},
   "outputs": [
    {
     "name": "stdout",
     "output_type": "stream",
     "text": [
      "[[ 30  80 130]\n",
      " [ 80 255 430]\n",
      " [130 430 730]]\n",
      "[[ 30  80 130]\n",
      " [ 80 255 430]\n",
      " [130 430 730]]\n"
     ]
    }
   ],
   "source": [
    "print(np.dot(arr, arr.T))\n",
    "print(arr @ arr.T)"
   ]
  },
  {
   "cell_type": "markdown",
   "id": "f93b37e1-9edb-4f12-9268-8df424b82215",
   "metadata": {},
   "source": [
    "### 난수 생성"
   ]
  },
  {
   "cell_type": "code",
   "execution_count": 124,
   "id": "787ada0b-6768-4f8e-8731-24199c128016",
   "metadata": {},
   "outputs": [
    {
     "name": "stdout",
     "output_type": "stream",
     "text": [
      "[[ 1.89423879 -1.16617602 -0.1583548  -0.83578465]\n",
      " [ 0.24694765 -0.5316873   0.64223719 -0.12166283]\n",
      " [-0.79303448  1.81466449 -0.373805   -0.21107846]\n",
      " [-0.7808648   0.49621475 -1.91276986  0.88319897]]\n"
     ]
    }
   ],
   "source": [
    "sample = np.random.standard_normal(size=(4, 4))\n",
    "print(sample)"
   ]
  },
  {
   "cell_type": "code",
   "execution_count": 127,
   "id": "00332bcb-e0c0-4866-ba48-cc2884c999cb",
   "metadata": {},
   "outputs": [
    {
     "name": "stdout",
     "output_type": "stream",
     "text": [
      "[[1.37631348        nan        nan        nan]\n",
      " [0.49693828        nan 0.80139702        nan]\n",
      " [       nan 1.34709483        nan        nan]\n",
      " [       nan 0.70442512        nan 0.93978666]]\n"
     ]
    },
    {
     "name": "stderr",
     "output_type": "stream",
     "text": [
      "C:\\Users\\2-00\\AppData\\Local\\Temp\\ipykernel_3424\\2344619755.py:1: RuntimeWarning: invalid value encountered in sqrt\n",
      "  print(np.sqrt(sample))\n"
     ]
    }
   ],
   "source": [
    "print(np.sqrt(sample))"
   ]
  },
  {
   "cell_type": "code",
   "execution_count": 128,
   "id": "688ada3a-d1fb-4133-9f08-e0b3eb090380",
   "metadata": {},
   "outputs": [
    {
     "name": "stdout",
     "output_type": "stream",
     "text": [
      "[[1.89423879 1.16617602 0.1583548  0.83578465]\n",
      " [0.24694765 0.5316873  0.64223719 0.12166283]\n",
      " [0.79303448 1.81466449 0.373805   0.21107846]\n",
      " [0.7808648  0.49621475 1.91276986 0.88319897]]\n"
     ]
    }
   ],
   "source": [
    "print(np.abs(sample))"
   ]
  },
  {
   "cell_type": "code",
   "execution_count": 132,
   "id": "80786050-07c3-4755-9a97-d14b0911f118",
   "metadata": {},
   "outputs": [
    {
     "name": "stderr",
     "output_type": "stream",
     "text": [
      "C:\\Users\\2-00\\AppData\\Local\\Temp\\ipykernel_3424\\619758985.py:1: RuntimeWarning: invalid value encountered in sqrt\n",
      "  np.isnan(np.sqrt(sample))\n"
     ]
    },
    {
     "data": {
      "text/plain": [
       "array([[False,  True,  True,  True],\n",
       "       [False,  True, False,  True],\n",
       "       [ True, False,  True,  True],\n",
       "       [ True, False,  True, False]])"
      ]
     },
     "execution_count": 132,
     "metadata": {},
     "output_type": "execute_result"
    }
   ],
   "source": [
    "np.isnan(np.sqrt(sample))"
   ]
  },
  {
   "cell_type": "code",
   "execution_count": 137,
   "id": "965533ba-dc0a-4b20-a2c8-065eca7f7d0c",
   "metadata": {},
   "outputs": [],
   "source": [
    "import random\n",
    "position = 0\n",
    "walk = [position]\n",
    "nsteps = 1000\n",
    "for _ in range(nsteps):\n",
    "    step = 1 if random.randint(0, 1) else -1\n",
    "    position += step\n",
    "    walk.append(position)\n",
    "walk_arr = np.array(walk)"
   ]
  },
  {
   "cell_type": "code",
   "execution_count": 141,
   "id": "b084ef4c-a7aa-480d-b1e8-94db1a2e1850",
   "metadata": {},
   "outputs": [
    {
     "data": {
      "text/plain": [
       "<Figure size 640x480 with 0 Axes>"
      ]
     },
     "execution_count": 141,
     "metadata": {},
     "output_type": "execute_result"
    },
    {
     "data": {
      "text/plain": [
       "<Figure size 640x480 with 0 Axes>"
      ]
     },
     "metadata": {},
     "output_type": "display_data"
    }
   ],
   "source": [
    "import matplotlib.pyplot as plt\n",
    "plt.figure()"
   ]
  },
  {
   "cell_type": "code",
   "execution_count": 142,
   "id": "e3879ef3-948a-4a0d-9c96-2dd80f0d56b5",
   "metadata": {},
   "outputs": [
    {
     "data": {
      "image/png": "[encoded data removed]",
      "text/plain": [
       "<Figure size 640x480 with 1 Axes>"
      ]
     },
     "metadata": {},
     "output_type": "display_data"
    }
   ],
   "source": [
    "plt.plot(walk_arr[:100])\n",
    "plt.show()"
   ]
  },
  {
   "cell_type": "code",
   "execution_count": 145,
   "id": "36e02e67-f09c-4f9b-808c-1e56277a3a44",
   "metadata": {},
   "outputs": [
    {
     "name": "stdout",
     "output_type": "stream",
     "text": [
      "19\n",
      "-2\n",
      "19\n"
     ]
    }
   ],
   "source": [
    "print(walk_arr[:100].max())\n",
    "print(walk_arr[:100].min())\n",
    "print((walk_arr[:100] >= 5).argmax())"
   ]
  },
  {
   "cell_type": "code",
   "execution_count": null,
   "id": "38eed850-8173-4871-af59-82e846e6f6ee",
   "metadata": {},
   "outputs": [],
   "source": []
  }
 ],
 "metadata": {
  "kernelspec": {
   "display_name": "Python 3 (ipykernel)",
   "language": "python",
   "name": "python3"
  },
  "language_info": {
   "codemirror_mode": {
    "name": "ipython",
    "version": 3
   },
   "file_extension": ".py",
   "mimetype": "text/x-python",
   "name": "python",
   "nbconvert_exporter": "python",
   "pygments_lexer": "ipython3",
   "version": "3.12.4"
  }
 },
 "nbformat": 4,
 "nbformat_minor": 5
}
