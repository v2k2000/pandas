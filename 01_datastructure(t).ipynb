{
 "cells": [
  {
   "cell_type": "code",
   "execution_count": 3,
   "id": "49e88341-49fc-4b81-b4a1-bac6303360ec",
   "metadata": {},
   "outputs": [],
   "source": [
    "import pandas as pd"
   ]
  },
  {
   "cell_type": "markdown",
   "id": "f0355aef-a1c7-496e-bedf-51d575494465",
   "metadata": {},
   "source": [
    "## Series\n"
   ]
  },
  {
   "cell_type": "code",
   "execution_count": 7,
   "id": "d3f51932-989b-426b-81c5-026f1a3b1195",
   "metadata": {},
   "outputs": [
    {
     "name": "stdout",
     "output_type": "stream",
     "text": [
      "[100 101 102 103 104 105 106 107 108 109]\n"
     ]
    }
   ],
   "source": [
    "import numpy as np\n",
    "arr = np.arange(100, 110)\n",
    "print(arr)"
   ]
  },
  {
   "cell_type": "code",
   "execution_count": 8,
   "id": "39b7c950-4ab8-4213-919e-a9e353a00b30",
   "metadata": {},
   "outputs": [
    {
     "name": "stdout",
     "output_type": "stream",
     "text": [
      "0    100\n",
      "1    101\n",
      "2    102\n",
      "3    103\n",
      "4    104\n",
      "5    105\n",
      "6    106\n",
      "7    107\n",
      "8    108\n",
      "9    109\n",
      "dtype: int64\n"
     ]
    }
   ],
   "source": [
    "s = pd.Series(arr)\n",
    "print(s)"
   ]
  },
  {
   "cell_type": "code",
   "execution_count": 10,
   "id": "d1329762-0d41-4209-b735-9c3b9e80edee",
   "metadata": {},
   "outputs": [
    {
     "name": "stdout",
     "output_type": "stream",
     "text": [
      "0    100\n",
      "1    101\n",
      "2    102\n",
      "3    103\n",
      "4    104\n",
      "5    105\n",
      "6    106\n",
      "7    107\n",
      "8    108\n",
      "9    109\n",
      "dtype: int32\n"
     ]
    }
   ],
   "source": [
    "s = pd.Series(arr, dtype='int32')\n",
    "print(s)"
   ]
  },
  {
   "cell_type": "code",
   "execution_count": 12,
   "id": "7e0f70f4-941f-4259-96d8-132151c45836",
   "metadata": {},
   "outputs": [
    {
     "name": "stdout",
     "output_type": "stream",
     "text": [
      "0     kim\n",
      "1     lee\n",
      "2    park\n",
      "3    hong\n",
      "dtype: object\n"
     ]
    }
   ],
   "source": [
    "person = ['kim', 'lee', 'park', 'hong']\n",
    "s = pd.Series(person)\n",
    "print(s)"
   ]
  },
  {
   "cell_type": "code",
   "execution_count": 13,
   "id": "c071b1e2-b2c9-4410-b3a9-d1bb5a48ec9d",
   "metadata": {},
   "outputs": [
    {
     "name": "stdout",
     "output_type": "stream",
     "text": [
      "0     1\n",
      "1     2\n",
      "2     3\n",
      "3     4\n",
      "4     5\n",
      "5    99\n",
      "dtype: object\n"
     ]
    }
   ],
   "source": [
    "s = pd.Series([1, 2, 3, 4, 5, '99'])\n",
    "print(s)"
   ]
  },
  {
   "cell_type": "markdown",
   "id": "0d1f605a-ff75-4a75-ace9-923f4a67442f",
   "metadata": {},
   "source": [
    "### indexing"
   ]
  },
  {
   "cell_type": "code",
   "execution_count": 14,
   "id": "3a69763a-e660-4196-b7a2-33734cfdba25",
   "metadata": {},
   "outputs": [],
   "source": [
    "person = ['kim', 'lee', 'park', 'hong']\n",
    "s = pd.Series(person)"
   ]
  },
  {
   "cell_type": "code",
   "execution_count": 15,
   "id": "5f17f45f-d5fa-4247-a1b5-9a017d118035",
   "metadata": {},
   "outputs": [
    {
     "data": {
      "text/plain": [
       "RangeIndex(start=0, stop=4, step=1)"
      ]
     },
     "execution_count": 15,
     "metadata": {},
     "output_type": "execute_result"
    }
   ],
   "source": [
    "s.index"
   ]
  },
  {
   "cell_type": "code",
   "execution_count": 18,
   "id": "2ca6a544-8464-4e86-8d56-98c3b6a1bdd4",
   "metadata": {},
   "outputs": [
    {
     "data": {
      "text/plain": [
       "'park'"
      ]
     },
     "execution_count": 18,
     "metadata": {},
     "output_type": "execute_result"
    }
   ],
   "source": [
    "s[2]"
   ]
  },
  {
   "cell_type": "code",
   "execution_count": 20,
   "id": "2ff3274e-8d1d-479a-979b-24762db238a5",
   "metadata": {},
   "outputs": [],
   "source": [
    "s[-1]"
   ]
  },
  {
   "cell_type": "code",
   "execution_count": 25,
   "id": "fe403032-e525-4ce6-b9bd-b7534ca815cd",
   "metadata": {},
   "outputs": [
    {
     "name": "stdout",
     "output_type": "stream",
     "text": [
      "a     kim\n",
      "b     lee\n",
      "c    park\n",
      "d    hong\n",
      "dtype: object\n"
     ]
    }
   ],
   "source": [
    "# s = pd.Series(person, index=['a', 'b', 'c', 'd'])\n",
    "s = pd.Series(person, index=list('abcd'))\n",
    "print(s)"
   ]
  },
  {
   "cell_type": "code",
   "execution_count": 23,
   "id": "792df131-ecf9-4fae-be76-b4473f4abc26",
   "metadata": {},
   "outputs": [
    {
     "data": {
      "text/plain": [
       "'kim'"
      ]
     },
     "execution_count": 23,
     "metadata": {},
     "output_type": "execute_result"
    }
   ],
   "source": [
    "s['a']"
   ]
  },
  {
   "cell_type": "code",
   "execution_count": 26,
   "id": "f1cc77e8-40aa-4f0b-a55e-740c2761269e",
   "metadata": {},
   "outputs": [
    {
     "data": {
      "text/plain": [
       "Index(['a', 'b', 'c', 'd'], dtype='object')"
      ]
     },
     "execution_count": 26,
     "metadata": {},
     "output_type": "execute_result"
    }
   ],
   "source": [
    "s.index"
   ]
  },
  {
   "cell_type": "code",
   "execution_count": 28,
   "id": "0d6385b0-f238-4603-bfa8-cc61a3701b8d",
   "metadata": {},
   "outputs": [
    {
     "data": {
      "text/plain": [
       "array(['kim', 'lee', 'park', 'hong'], dtype=object)"
      ]
     },
     "execution_count": 28,
     "metadata": {},
     "output_type": "execute_result"
    }
   ],
   "source": [
    "s.values"
   ]
  },
  {
   "cell_type": "code",
   "execution_count": 29,
   "id": "5169f1d3-1a59-4434-accf-cb3d4488adcf",
   "metadata": {},
   "outputs": [
    {
     "data": {
      "text/plain": [
       "1"
      ]
     },
     "execution_count": 29,
     "metadata": {},
     "output_type": "execute_result"
    }
   ],
   "source": [
    "s.ndim"
   ]
  },
  {
   "cell_type": "code",
   "execution_count": 30,
   "id": "dc693bc2-d1a5-4abb-8540-ac57f7b9a8be",
   "metadata": {},
   "outputs": [
    {
     "data": {
      "text/plain": [
       "(4,)"
      ]
     },
     "execution_count": 30,
     "metadata": {},
     "output_type": "execute_result"
    }
   ],
   "source": [
    "s.shape"
   ]
  },
  {
   "cell_type": "markdown",
   "id": "50a49a9c-5d3f-4662-9b4c-d4034f9f77c2",
   "metadata": {},
   "source": [
    "### NaN(Not A Number)"
   ]
  },
  {
   "cell_type": "code",
   "execution_count": 31,
   "id": "e36ec2d4-e04c-4a65-992a-5cc572500ada",
   "metadata": {},
   "outputs": [
    {
     "name": "stdout",
     "output_type": "stream",
     "text": [
      "0     kim\n",
      "1     lee\n",
      "2    park\n",
      "3    hong\n",
      "4     NaN\n",
      "dtype: object\n"
     ]
    }
   ],
   "source": [
    "s = pd.Series(person + [np.nan])\n",
    "print(s)"
   ]
  },
  {
   "cell_type": "code",
   "execution_count": 34,
   "id": "c0a539cf-ecb5-46d7-a7b3-efcc39acacdb",
   "metadata": {},
   "outputs": [
    {
     "name": "stdout",
     "output_type": "stream",
     "text": [
      "0    50.0\n",
      "1    51.0\n",
      "2    52.0\n",
      "3    53.0\n",
      "4    54.0\n",
      "dtype: float32\n"
     ]
    }
   ],
   "source": [
    "arr = np.arange(50, 55)\n",
    "s = pd.Series(arr, dtype='float32')\n",
    "print(s)"
   ]
  },
  {
   "cell_type": "markdown",
   "id": "ea93f30e-0b5b-4f7b-b4de-3b7505ec17ea",
   "metadata": {},
   "source": [
    "가    바나나\n",
    "나    NaN\n",
    "다    사과\n",
    "라    포도\n",
    "마    복숭아"
   ]
  },
  {
   "cell_type": "code",
   "execution_count": 39,
   "id": "4724554b-8f7c-4712-803e-3e6558a68274",
   "metadata": {},
   "outputs": [
    {
     "name": "stdout",
     "output_type": "stream",
     "text": [
      "가    바나나\n",
      "나    NaN\n",
      "다     사과\n",
      "라     포도\n",
      "마    복숭아\n",
      "dtype: object\n"
     ]
    }
   ],
   "source": [
    "f = ['바나나', np.nan, '사과', '포도', '복숭아']\n",
    "s = pd.Series(f, index=list('가나다라마'))\n",
    "print(s)"
   ]
  },
  {
   "cell_type": "markdown",
   "id": "3c2fa049-2014-46bc-b0f7-89881fa38dc1",
   "metadata": {},
   "source": [
    "### fancy indexing"
   ]
  },
  {
   "cell_type": "code",
   "execution_count": 40,
   "id": "de6d0d5c-0e15-4c0e-9c66-da384f65342e",
   "metadata": {},
   "outputs": [
    {
     "data": {
      "text/plain": [
       "다     사과\n",
       "나    NaN\n",
       "dtype: object"
      ]
     },
     "execution_count": 40,
     "metadata": {},
     "output_type": "execute_result"
    }
   ],
   "source": [
    "s[['다', '나']]"
   ]
  },
  {
   "cell_type": "code",
   "execution_count": 44,
   "id": "bac83f38-0d2e-4d01-aa45-944bff65e1d5",
   "metadata": {},
   "outputs": [
    {
     "data": {
      "text/plain": [
       "다    사과\n",
       "라    포도\n",
       "dtype: object"
      ]
     },
     "execution_count": 44,
     "metadata": {},
     "output_type": "execute_result"
    }
   ],
   "source": [
    "# s.iloc[[2, 3]]\n",
    "s[['다', '라']]"
   ]
  },
  {
   "cell_type": "markdown",
   "id": "4079f638-2dea-4f12-8601-aca8dc43bbe7",
   "metadata": {},
   "source": [
    "### bool"
   ]
  },
  {
   "cell_type": "code",
   "execution_count": 46,
   "id": "d12014ca-43ed-426b-9d02-d3a54f53e52f",
   "metadata": {},
   "outputs": [
    {
     "data": {
      "text/plain": [
       "가    바나나\n",
       "다     사과\n",
       "마    복숭아\n",
       "dtype: object"
      ]
     },
     "execution_count": 46,
     "metadata": {},
     "output_type": "execute_result"
    }
   ],
   "source": [
    "s[[True, False, True, False, True]]"
   ]
  },
  {
   "cell_type": "code",
   "execution_count": 48,
   "id": "4de5e1fd-23e9-4a33-85c0-e7126d178144",
   "metadata": {},
   "outputs": [
    {
     "data": {
      "text/plain": [
       "가    바나나\n",
       "라     포도\n",
       "마    복숭아\n",
       "dtype: object"
      ]
     },
     "execution_count": 48,
     "metadata": {},
     "output_type": "execute_result"
    }
   ],
   "source": [
    "a = [True, False, False, True, True]\n",
    "s[a]"
   ]
  },
  {
   "cell_type": "code",
   "execution_count": 49,
   "id": "ec8d8f18-588b-444a-8da2-474dd4408935",
   "metadata": {},
   "outputs": [
    {
     "name": "stdout",
     "output_type": "stream",
     "text": [
      "0      5\n",
      "1      6\n",
      "2      7\n",
      "3      8\n",
      "4      9\n",
      "5     10\n",
      "6     11\n",
      "7     12\n",
      "8     13\n",
      "9     14\n",
      "10    15\n",
      "11    16\n",
      "12    17\n",
      "13    18\n",
      "14    19\n",
      "dtype: int64\n"
     ]
    }
   ],
   "source": [
    "arr = np.arange(5, 20)\n",
    "s = pd.Series(arr)\n",
    "print(s)"
   ]
  },
  {
   "cell_type": "code",
   "execution_count": 50,
   "id": "23b68d49-6ae1-450b-a2e1-fa1b566ae511",
   "metadata": {},
   "outputs": [
    {
     "data": {
      "text/plain": [
       "0      True\n",
       "1      True\n",
       "2      True\n",
       "3      True\n",
       "4      True\n",
       "5     False\n",
       "6     False\n",
       "7     False\n",
       "8     False\n",
       "9     False\n",
       "10    False\n",
       "11    False\n",
       "12    False\n",
       "13    False\n",
       "14    False\n",
       "dtype: bool"
      ]
     },
     "execution_count": 50,
     "metadata": {},
     "output_type": "execute_result"
    }
   ],
   "source": [
    "s < 10"
   ]
  },
  {
   "cell_type": "code",
   "execution_count": 51,
   "id": "505de470-d02b-4d6a-885e-4516687c0ebe",
   "metadata": {},
   "outputs": [
    {
     "data": {
      "text/plain": [
       "0    5\n",
       "1    6\n",
       "2    7\n",
       "3    8\n",
       "4    9\n",
       "dtype: int64"
      ]
     },
     "execution_count": 51,
     "metadata": {},
     "output_type": "execute_result"
    }
   ],
   "source": [
    "s[s < 10]"
   ]
  },
  {
   "cell_type": "code",
   "execution_count": 52,
   "id": "f785930e-2389-43c5-9a98-1256df98114c",
   "metadata": {},
   "outputs": [
    {
     "data": {
      "text/plain": [
       "0    5\n",
       "dtype: int64"
      ]
     },
     "execution_count": 52,
     "metadata": {},
     "output_type": "execute_result"
    }
   ],
   "source": [
    "s[s == 5]"
   ]
  },
  {
   "cell_type": "markdown",
   "id": "e41fafac-8d48-4333-848a-b32f68d9f6d7",
   "metadata": {},
   "source": [
    "## 결측치(NaN) 처리"
   ]
  },
  {
   "cell_type": "code",
   "execution_count": 53,
   "id": "4186b64f-f4ec-48b8-8a94-6289a936da84",
   "metadata": {},
   "outputs": [
    {
     "name": "stdout",
     "output_type": "stream",
     "text": [
      "0    2.0\n",
      "1    5.0\n",
      "2    2.0\n",
      "3    1.0\n",
      "4    NaN\n",
      "5    2.0\n",
      "6    4.0\n",
      "7    9.0\n",
      "8    NaN\n",
      "dtype: float64\n"
     ]
    }
   ],
   "source": [
    "s = pd.Series([2, 5, 2, 1, np.nan, 2, 4, 9, np.nan])\n",
    "print(s)"
   ]
  },
  {
   "cell_type": "code",
   "execution_count": 54,
   "id": "68f8ba7d-0a16-452d-a265-95b7a4c5d400",
   "metadata": {},
   "outputs": [
    {
     "data": {
      "text/plain": [
       "0    False\n",
       "1    False\n",
       "2    False\n",
       "3    False\n",
       "4     True\n",
       "5    False\n",
       "6    False\n",
       "7    False\n",
       "8     True\n",
       "dtype: bool"
      ]
     },
     "execution_count": 54,
     "metadata": {},
     "output_type": "execute_result"
    }
   ],
   "source": [
    "s.isnull()"
   ]
  },
  {
   "cell_type": "code",
   "execution_count": 56,
   "id": "70f69534-d257-416f-9f0b-3b7ad1f3951a",
   "metadata": {},
   "outputs": [
    {
     "data": {
      "text/plain": [
       "4   NaN\n",
       "8   NaN\n",
       "dtype: float64"
      ]
     },
     "execution_count": 56,
     "metadata": {},
     "output_type": "execute_result"
    }
   ],
   "source": [
    "s[s.isnull()]"
   ]
  },
  {
   "cell_type": "code",
   "execution_count": 57,
   "id": "dbda6dc7-b852-4903-a2bc-9e9ac74bf178",
   "metadata": {},
   "outputs": [
    {
     "data": {
      "text/plain": [
       "0    False\n",
       "1    False\n",
       "2    False\n",
       "3    False\n",
       "4     True\n",
       "5    False\n",
       "6    False\n",
       "7    False\n",
       "8     True\n",
       "dtype: bool"
      ]
     },
     "execution_count": 57,
     "metadata": {},
     "output_type": "execute_result"
    }
   ],
   "source": [
    "s.isna()"
   ]
  },
  {
   "cell_type": "code",
   "execution_count": 58,
   "id": "97eb00c5-754a-4ad4-bbf1-349fbf236af8",
   "metadata": {},
   "outputs": [
    {
     "data": {
      "text/plain": [
       "4   NaN\n",
       "8   NaN\n",
       "dtype: float64"
      ]
     },
     "execution_count": 58,
     "metadata": {},
     "output_type": "execute_result"
    }
   ],
   "source": [
    "s[s.isna()]"
   ]
  },
  {
   "cell_type": "code",
   "execution_count": 59,
   "id": "d4d66116-c794-4333-afb9-164563fcb6ae",
   "metadata": {},
   "outputs": [
    {
     "data": {
      "text/plain": [
       "0    2.0\n",
       "1    5.0\n",
       "2    2.0\n",
       "3    1.0\n",
       "5    2.0\n",
       "6    4.0\n",
       "7    9.0\n",
       "dtype: float64"
      ]
     },
     "execution_count": 59,
     "metadata": {},
     "output_type": "execute_result"
    }
   ],
   "source": [
    "s[s.notnull()]"
   ]
  },
  {
   "cell_type": "code",
   "execution_count": 60,
   "id": "3403932a-4fe6-41e9-ab9a-2f3cbbbd0b6c",
   "metadata": {},
   "outputs": [
    {
     "data": {
      "text/plain": [
       "1    5.0\n",
       "2    2.0\n",
       "dtype: float64"
      ]
     },
     "execution_count": 60,
     "metadata": {},
     "output_type": "execute_result"
    }
   ],
   "source": [
    "s[1:3]"
   ]
  },
  {
   "cell_type": "code",
   "execution_count": 62,
   "id": "a2c98269-ccef-4e7a-b10e-c4a009f66dd4",
   "metadata": {},
   "outputs": [
    {
     "name": "stdout",
     "output_type": "stream",
     "text": [
      "가    바나나\n",
      "나    NaN\n",
      "다     사과\n",
      "라     포도\n",
      "dtype: object\n"
     ]
    }
   ],
   "source": [
    "f = ['바나나', np.nan, '사과', '포도', '복숭아']\n",
    "s = pd.Series(f, index=list('가나다라마'))\n",
    "print(s['가':'라'])\n"
   ]
  },
  {
   "cell_type": "markdown",
   "id": "6c5ae089-7b31-44d1-a254-e82a1f22f4b1",
   "metadata": {},
   "source": [
    "# DataFrame"
   ]
  },
  {
   "cell_type": "code",
   "execution_count": 63,
   "id": "d705bc52-1a7c-4983-9257-011a2ff68b9e",
   "metadata": {},
   "outputs": [
    {
     "name": "stdout",
     "output_type": "stream",
     "text": [
      "[[0 1 2]\n",
      " [3 4 5]\n",
      " [6 7 8]]\n"
     ]
    }
   ],
   "source": [
    "arr = np.arange(9).reshape(3, 3)\n",
    "print(arr)"
   ]
  },
  {
   "cell_type": "code",
   "execution_count": 65,
   "id": "e85aecae-77f3-436c-8945-f55552142eea",
   "metadata": {},
   "outputs": [
    {
     "data": {
      "text/html": [
       "<div>\n",
       "<style scoped>\n",
       "    .dataframe tbody tr th:only-of-type {\n",
       "        vertical-align: middle;\n",
       "    }\n",
       "\n",
       "    .dataframe tbody tr th {\n",
       "        vertical-align: top;\n",
       "    }\n",
       "\n",
       "    .dataframe thead th {\n",
       "        text-align: right;\n",
       "    }\n",
       "</style>\n",
       "<table border=\"1\" class=\"dataframe\">\n",
       "  <thead>\n",
       "    <tr style=\"text-align: right;\">\n",
       "      <th></th>\n",
       "      <th>0</th>\n",
       "      <th>1</th>\n",
       "      <th>2</th>\n",
       "    </tr>\n",
       "  </thead>\n",
       "  <tbody>\n",
       "    <tr>\n",
       "      <th>0</th>\n",
       "      <td>0</td>\n",
       "      <td>1</td>\n",
       "      <td>2</td>\n",
       "    </tr>\n",
       "    <tr>\n",
       "      <th>1</th>\n",
       "      <td>3</td>\n",
       "      <td>4</td>\n",
       "      <td>5</td>\n",
       "    </tr>\n",
       "    <tr>\n",
       "      <th>2</th>\n",
       "      <td>6</td>\n",
       "      <td>7</td>\n",
       "      <td>8</td>\n",
       "    </tr>\n",
       "  </tbody>\n",
       "</table>\n",
       "</div>"
      ],
      "text/plain": [
       "   0  1  2\n",
       "0  0  1  2\n",
       "1  3  4  5\n",
       "2  6  7  8"
      ]
     },
     "execution_count": 65,
     "metadata": {},
     "output_type": "execute_result"
    }
   ],
   "source": [
    "df = pd.DataFrame(arr)\n",
    "df"
   ]
  },
  {
   "cell_type": "code",
   "execution_count": 69,
   "id": "2813e4be-da82-4c46-9f08-9dc0e1bb51ba",
   "metadata": {},
   "outputs": [
    {
     "data": {
      "text/html": [
       "<div>\n",
       "<style scoped>\n",
       "    .dataframe tbody tr th:only-of-type {\n",
       "        vertical-align: middle;\n",
       "    }\n",
       "\n",
       "    .dataframe tbody tr th {\n",
       "        vertical-align: top;\n",
       "    }\n",
       "\n",
       "    .dataframe thead th {\n",
       "        text-align: right;\n",
       "    }\n",
       "</style>\n",
       "<table border=\"1\" class=\"dataframe\">\n",
       "  <thead>\n",
       "    <tr style=\"text-align: right;\">\n",
       "      <th></th>\n",
       "      <th>가</th>\n",
       "      <th>나</th>\n",
       "      <th>다</th>\n",
       "    </tr>\n",
       "  </thead>\n",
       "  <tbody>\n",
       "    <tr>\n",
       "      <th>a</th>\n",
       "      <td>0</td>\n",
       "      <td>1</td>\n",
       "      <td>2</td>\n",
       "    </tr>\n",
       "    <tr>\n",
       "      <th>b</th>\n",
       "      <td>3</td>\n",
       "      <td>4</td>\n",
       "      <td>5</td>\n",
       "    </tr>\n",
       "    <tr>\n",
       "      <th>c</th>\n",
       "      <td>6</td>\n",
       "      <td>7</td>\n",
       "      <td>8</td>\n",
       "    </tr>\n",
       "  </tbody>\n",
       "</table>\n",
       "</div>"
      ],
      "text/plain": [
       "   가  나  다\n",
       "a  0  1  2\n",
       "b  3  4  5\n",
       "c  6  7  8"
      ]
     },
     "execution_count": 69,
     "metadata": {},
     "output_type": "execute_result"
    }
   ],
   "source": [
    "df = pd.DataFrame(\n",
    "    arr, \n",
    "    columns=['가', '나', '다'], \n",
    "    index=['a', 'b', 'c']\n",
    ")\n",
    "df"
   ]
  },
  {
   "cell_type": "code",
   "execution_count": 71,
   "id": "91264e34-41d2-4a51-aca3-e63759462323",
   "metadata": {},
   "outputs": [
    {
     "data": {
      "text/html": [
       "<div>\n",
       "<style scoped>\n",
       "    .dataframe tbody tr th:only-of-type {\n",
       "        vertical-align: middle;\n",
       "    }\n",
       "\n",
       "    .dataframe tbody tr th {\n",
       "        vertical-align: top;\n",
       "    }\n",
       "\n",
       "    .dataframe thead th {\n",
       "        text-align: right;\n",
       "    }\n",
       "</style>\n",
       "<table border=\"1\" class=\"dataframe\">\n",
       "  <thead>\n",
       "    <tr style=\"text-align: right;\">\n",
       "      <th></th>\n",
       "      <th>name</th>\n",
       "      <th>age</th>\n",
       "      <th>location</th>\n",
       "    </tr>\n",
       "  </thead>\n",
       "  <tbody>\n",
       "    <tr>\n",
       "      <th>0</th>\n",
       "      <td>kim</td>\n",
       "      <td>10</td>\n",
       "      <td>seoul</td>\n",
       "    </tr>\n",
       "    <tr>\n",
       "      <th>1</th>\n",
       "      <td>lee</td>\n",
       "      <td>15</td>\n",
       "      <td>LA</td>\n",
       "    </tr>\n",
       "    <tr>\n",
       "      <th>2</th>\n",
       "      <td>park</td>\n",
       "      <td>20</td>\n",
       "      <td>tokyo</td>\n",
       "    </tr>\n",
       "  </tbody>\n",
       "</table>\n",
       "</div>"
      ],
      "text/plain": [
       "   name  age location\n",
       "0   kim   10    seoul\n",
       "1   lee   15       LA\n",
       "2  park   20    tokyo"
      ]
     },
     "execution_count": 71,
     "metadata": {},
     "output_type": "execute_result"
    }
   ],
   "source": [
    "data = {\n",
    "    'name': ['kim', 'lee', 'park'],\n",
    "    'age': [10, 15, 20],\n",
    "    'location': ['seoul', 'LA', 'tokyo']\n",
    "}\n",
    "df = pd.DataFrame(data)\n",
    "df"
   ]
  },
  {
   "cell_type": "code",
   "execution_count": 72,
   "id": "9c1f069f-4713-43d1-9964-6be37edff577",
   "metadata": {},
   "outputs": [
    {
     "data": {
      "text/plain": [
       "RangeIndex(start=0, stop=3, step=1)"
      ]
     },
     "execution_count": 72,
     "metadata": {},
     "output_type": "execute_result"
    }
   ],
   "source": [
    "df.index"
   ]
  },
  {
   "cell_type": "code",
   "execution_count": 73,
   "id": "950aae10-ae92-45e0-a871-543b1a753a0f",
   "metadata": {},
   "outputs": [
    {
     "data": {
      "text/plain": [
       "Index(['name', 'age', 'location'], dtype='object')"
      ]
     },
     "execution_count": 73,
     "metadata": {},
     "output_type": "execute_result"
    }
   ],
   "source": [
    "df.columns"
   ]
  },
  {
   "cell_type": "code",
   "execution_count": 74,
   "id": "3deb48fa-2403-4167-864a-8df18f3cef88",
   "metadata": {},
   "outputs": [
    {
     "data": {
      "text/plain": [
       "array([['kim', 10, 'seoul'],\n",
       "       ['lee', 15, 'LA'],\n",
       "       ['park', 20, 'tokyo']], dtype=object)"
      ]
     },
     "execution_count": 74,
     "metadata": {},
     "output_type": "execute_result"
    }
   ],
   "source": [
    "df.values"
   ]
  },
  {
   "cell_type": "code",
   "execution_count": 76,
   "id": "cc319dca-7b9a-45ef-ba23-2db246b9eef6",
   "metadata": {},
   "outputs": [
    {
     "data": {
      "text/plain": [
       "name        object\n",
       "age          int64\n",
       "location    object\n",
       "dtype: object"
      ]
     },
     "execution_count": 76,
     "metadata": {},
     "output_type": "execute_result"
    }
   ],
   "source": [
    "df.dtypes"
   ]
  },
  {
   "cell_type": "code",
   "execution_count": 77,
   "id": "315ccc49-117f-4585-b531-194b920d5514",
   "metadata": {},
   "outputs": [
    {
     "data": {
      "text/html": [
       "<div>\n",
       "<style scoped>\n",
       "    .dataframe tbody tr th:only-of-type {\n",
       "        vertical-align: middle;\n",
       "    }\n",
       "\n",
       "    .dataframe tbody tr th {\n",
       "        vertical-align: top;\n",
       "    }\n",
       "\n",
       "    .dataframe thead th {\n",
       "        text-align: right;\n",
       "    }\n",
       "</style>\n",
       "<table border=\"1\" class=\"dataframe\">\n",
       "  <thead>\n",
       "    <tr style=\"text-align: right;\">\n",
       "      <th></th>\n",
       "      <th>0</th>\n",
       "      <th>1</th>\n",
       "      <th>2</th>\n",
       "    </tr>\n",
       "  </thead>\n",
       "  <tbody>\n",
       "    <tr>\n",
       "      <th>name</th>\n",
       "      <td>kim</td>\n",
       "      <td>lee</td>\n",
       "      <td>park</td>\n",
       "    </tr>\n",
       "    <tr>\n",
       "      <th>age</th>\n",
       "      <td>10</td>\n",
       "      <td>15</td>\n",
       "      <td>20</td>\n",
       "    </tr>\n",
       "    <tr>\n",
       "      <th>location</th>\n",
       "      <td>seoul</td>\n",
       "      <td>LA</td>\n",
       "      <td>tokyo</td>\n",
       "    </tr>\n",
       "  </tbody>\n",
       "</table>\n",
       "</div>"
      ],
      "text/plain": [
       "              0    1      2\n",
       "name        kim  lee   park\n",
       "age          10   15     20\n",
       "location  seoul   LA  tokyo"
      ]
     },
     "execution_count": 77,
     "metadata": {},
     "output_type": "execute_result"
    }
   ],
   "source": [
    "df.T"
   ]
  },
  {
   "cell_type": "code",
   "execution_count": 78,
   "id": "d92d9598-a631-49f2-b3a7-4016dc9a89bb",
   "metadata": {},
   "outputs": [
    {
     "data": {
      "text/html": [
       "<div>\n",
       "<style scoped>\n",
       "    .dataframe tbody tr th:only-of-type {\n",
       "        vertical-align: middle;\n",
       "    }\n",
       "\n",
       "    .dataframe tbody tr th {\n",
       "        vertical-align: top;\n",
       "    }\n",
       "\n",
       "    .dataframe thead th {\n",
       "        text-align: right;\n",
       "    }\n",
       "</style>\n",
       "<table border=\"1\" class=\"dataframe\">\n",
       "  <thead>\n",
       "    <tr style=\"text-align: right;\">\n",
       "      <th></th>\n",
       "      <th>name</th>\n",
       "      <th>age</th>\n",
       "      <th>location</th>\n",
       "    </tr>\n",
       "  </thead>\n",
       "  <tbody>\n",
       "    <tr>\n",
       "      <th>0</th>\n",
       "      <td>kim</td>\n",
       "      <td>10</td>\n",
       "      <td>seoul</td>\n",
       "    </tr>\n",
       "    <tr>\n",
       "      <th>1</th>\n",
       "      <td>lee</td>\n",
       "      <td>15</td>\n",
       "      <td>LA</td>\n",
       "    </tr>\n",
       "    <tr>\n",
       "      <th>2</th>\n",
       "      <td>park</td>\n",
       "      <td>20</td>\n",
       "      <td>tokyo</td>\n",
       "    </tr>\n",
       "  </tbody>\n",
       "</table>\n",
       "</div>"
      ],
      "text/plain": [
       "   name  age location\n",
       "0   kim   10    seoul\n",
       "1   lee   15       LA\n",
       "2  park   20    tokyo"
      ]
     },
     "execution_count": 78,
     "metadata": {},
     "output_type": "execute_result"
    }
   ],
   "source": [
    "df"
   ]
  },
  {
   "cell_type": "code",
   "execution_count": 79,
   "id": "dd182ed0-79be-439b-a9db-2b91b376a80d",
   "metadata": {},
   "outputs": [
    {
     "data": {
      "text/html": [
       "<div>\n",
       "<style scoped>\n",
       "    .dataframe tbody tr th:only-of-type {\n",
       "        vertical-align: middle;\n",
       "    }\n",
       "\n",
       "    .dataframe tbody tr th {\n",
       "        vertical-align: top;\n",
       "    }\n",
       "\n",
       "    .dataframe thead th {\n",
       "        text-align: right;\n",
       "    }\n",
       "</style>\n",
       "<table border=\"1\" class=\"dataframe\">\n",
       "  <thead>\n",
       "    <tr style=\"text-align: right;\">\n",
       "      <th></th>\n",
       "      <th>name</th>\n",
       "      <th>age</th>\n",
       "      <th>location</th>\n",
       "    </tr>\n",
       "  </thead>\n",
       "  <tbody>\n",
       "    <tr>\n",
       "      <th>a</th>\n",
       "      <td>kim</td>\n",
       "      <td>10</td>\n",
       "      <td>seoul</td>\n",
       "    </tr>\n",
       "    <tr>\n",
       "      <th>b</th>\n",
       "      <td>lee</td>\n",
       "      <td>15</td>\n",
       "      <td>LA</td>\n",
       "    </tr>\n",
       "    <tr>\n",
       "      <th>c</th>\n",
       "      <td>park</td>\n",
       "      <td>20</td>\n",
       "      <td>tokyo</td>\n",
       "    </tr>\n",
       "  </tbody>\n",
       "</table>\n",
       "</div>"
      ],
      "text/plain": [
       "   name  age location\n",
       "a   kim   10    seoul\n",
       "b   lee   15       LA\n",
       "c  park   20    tokyo"
      ]
     },
     "execution_count": 79,
     "metadata": {},
     "output_type": "execute_result"
    }
   ],
   "source": [
    "df.index = list('abc')\n",
    "df"
   ]
  },
  {
   "cell_type": "markdown",
   "id": "1005cd89-762b-427a-a812-33b3bd176030",
   "metadata": {},
   "source": [
    "### column"
   ]
  },
  {
   "cell_type": "code",
   "execution_count": 80,
   "id": "8ddd392a-3e1e-4944-bc4f-2683e8ea24b3",
   "metadata": {},
   "outputs": [
    {
     "data": {
      "text/plain": [
       "a     kim\n",
       "b     lee\n",
       "c    park\n",
       "Name: name, dtype: object"
      ]
     },
     "execution_count": 80,
     "metadata": {},
     "output_type": "execute_result"
    }
   ],
   "source": [
    "df['name']"
   ]
  },
  {
   "cell_type": "code",
   "execution_count": 82,
   "id": "f7a4dbd6-a22b-4d6e-b153-5d64febbb459",
   "metadata": {},
   "outputs": [
    {
     "data": {
      "text/plain": [
       "pandas.core.series.Series"
      ]
     },
     "execution_count": 82,
     "metadata": {},
     "output_type": "execute_result"
    }
   ],
   "source": [
    "type(df['name'])"
   ]
  },
  {
   "cell_type": "code",
   "execution_count": 83,
   "id": "b385fb93-5fa3-4f13-b67c-1740959b4a2e",
   "metadata": {},
   "outputs": [
    {
     "data": {
      "text/html": [
       "<div>\n",
       "<style scoped>\n",
       "    .dataframe tbody tr th:only-of-type {\n",
       "        vertical-align: middle;\n",
       "    }\n",
       "\n",
       "    .dataframe tbody tr th {\n",
       "        vertical-align: top;\n",
       "    }\n",
       "\n",
       "    .dataframe thead th {\n",
       "        text-align: right;\n",
       "    }\n",
       "</style>\n",
       "<table border=\"1\" class=\"dataframe\">\n",
       "  <thead>\n",
       "    <tr style=\"text-align: right;\">\n",
       "      <th></th>\n",
       "      <th>name</th>\n",
       "      <th>location</th>\n",
       "    </tr>\n",
       "  </thead>\n",
       "  <tbody>\n",
       "    <tr>\n",
       "      <th>a</th>\n",
       "      <td>kim</td>\n",
       "      <td>seoul</td>\n",
       "    </tr>\n",
       "    <tr>\n",
       "      <th>b</th>\n",
       "      <td>lee</td>\n",
       "      <td>LA</td>\n",
       "    </tr>\n",
       "    <tr>\n",
       "      <th>c</th>\n",
       "      <td>park</td>\n",
       "      <td>tokyo</td>\n",
       "    </tr>\n",
       "  </tbody>\n",
       "</table>\n",
       "</div>"
      ],
      "text/plain": [
       "   name location\n",
       "a   kim    seoul\n",
       "b   lee       LA\n",
       "c  park    tokyo"
      ]
     },
     "execution_count": 83,
     "metadata": {},
     "output_type": "execute_result"
    }
   ],
   "source": [
    "df[['name', 'location']]"
   ]
  },
  {
   "cell_type": "code",
   "execution_count": 84,
   "id": "1e950ff9-04bc-4575-8aed-a6a56903fd98",
   "metadata": {},
   "outputs": [
    {
     "data": {
      "text/plain": [
       "pandas.core.frame.DataFrame"
      ]
     },
     "execution_count": 84,
     "metadata": {},
     "output_type": "execute_result"
    }
   ],
   "source": [
    "type(df[['name', 'location']])"
   ]
  },
  {
   "cell_type": "code",
   "execution_count": 101,
   "id": "8791c17d-d1e4-4da9-aa30-3f070d130ebf",
   "metadata": {},
   "outputs": [
    {
     "data": {
      "text/html": [
       "<div>\n",
       "<style scoped>\n",
       "    .dataframe tbody tr th:only-of-type {\n",
       "        vertical-align: middle;\n",
       "    }\n",
       "\n",
       "    .dataframe tbody tr th {\n",
       "        vertical-align: top;\n",
       "    }\n",
       "\n",
       "    .dataframe thead th {\n",
       "        text-align: right;\n",
       "    }\n",
       "</style>\n",
       "<table border=\"1\" class=\"dataframe\">\n",
       "  <thead>\n",
       "    <tr style=\"text-align: right;\">\n",
       "      <th></th>\n",
       "      <th>name</th>\n",
       "      <th>age</th>\n",
       "      <th>hometown</th>\n",
       "    </tr>\n",
       "  </thead>\n",
       "  <tbody>\n",
       "    <tr>\n",
       "      <th>a</th>\n",
       "      <td>kim</td>\n",
       "      <td>10</td>\n",
       "      <td>seoul</td>\n",
       "    </tr>\n",
       "    <tr>\n",
       "      <th>b</th>\n",
       "      <td>lee</td>\n",
       "      <td>15</td>\n",
       "      <td>LA</td>\n",
       "    </tr>\n",
       "    <tr>\n",
       "      <th>c</th>\n",
       "      <td>park</td>\n",
       "      <td>20</td>\n",
       "      <td>tokyo</td>\n",
       "    </tr>\n",
       "  </tbody>\n",
       "</table>\n",
       "</div>"
      ],
      "text/plain": [
       "   name  age hometown\n",
       "a   kim   10    seoul\n",
       "b   lee   15       LA\n",
       "c  park   20    tokyo"
      ]
     },
     "execution_count": 101,
     "metadata": {},
     "output_type": "execute_result"
    }
   ],
   "source": [
    "df.rename(columns={'location': 'hometown'}, inplace=True)\n",
    "df"
   ]
  },
  {
   "cell_type": "code",
   "execution_count": null,
   "id": "9eafca9b-f582-4b2c-a959-448d497976d6",
   "metadata": {},
   "outputs": [],
   "source": []
  }
 ],
 "metadata": {
  "kernelspec": {
   "display_name": "Python 3 (ipykernel)",
   "language": "python",
   "name": "python3"
  },
  "language_info": {
   "codemirror_mode": {
    "name": "ipython",
    "version": 3
   },
   "file_extension": ".py",
   "mimetype": "text/x-python",
   "name": "python",
   "nbconvert_exporter": "python",
   "pygments_lexer": "ipython3",
   "version": "3.12.4"
  }
 },
 "nbformat": 4,
 "nbformat_minor": 5
}
