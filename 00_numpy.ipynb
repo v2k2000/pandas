{
 "cells": [
  {
   "cell_type": "code",
   "execution_count": 1,
   "id": "6a956367-c8f2-4933-94ba-6985671973df",
   "metadata": {},
   "outputs": [],
   "source": [
    "import numpy as np"
   ]
  },
  {
   "cell_type": "code",
   "execution_count": 5,
   "id": "0616daf8-4966-41a8-a45b-e2e170f85c02",
   "metadata": {},
   "outputs": [],
   "source": [
    "my_arr = np.arange(1000000)\n",
    "my_list = list(range(1000000))"
   ]
  },
  {
   "cell_type": "code",
   "execution_count": 6,
   "id": "214d3d9d-c0d7-4095-af33-32645c3fdfb2",
   "metadata": {},
   "outputs": [
    {
     "name": "stdout",
     "output_type": "stream",
     "text": [
      "1.83 ms ± 4.02 μs per loop (mean ± std. dev. of 7 runs, 1,000 loops each)\n"
     ]
    }
   ],
   "source": [
    "%timeit my_arr2 = my_arr * 2"
   ]
  },
  {
   "cell_type": "code",
   "execution_count": 7,
   "id": "1d79cc54-e9c9-4c3d-9f15-ff71a8ccd074",
   "metadata": {},
   "outputs": [
    {
     "name": "stdout",
     "output_type": "stream",
     "text": [
      "37.6 ms ± 666 μs per loop (mean ± std. dev. of 7 runs, 10 loops each)\n"
     ]
    }
   ],
   "source": [
    "%timeit my_list2 = [x * 2 for x in my_list]"
   ]
  },
  {
   "cell_type": "code",
   "execution_count": 12,
   "id": "4f3360b4-dc1f-4a3d-90ec-0969a943cadb",
   "metadata": {},
   "outputs": [
    {
     "name": "stdout",
     "output_type": "stream",
     "text": [
      "[[ 2.    2.2   2.22]\n",
      " [ 3.   -3.    0.  ]]\n"
     ]
    }
   ],
   "source": [
    "a = [\n",
    "    [2, 2.2, 2.22],\n",
    "    [3, -3, 0]\n",
    "]\n",
    "\n",
    "data =np.array(a)\n",
    "print(data)"
   ]
  },
  {
   "cell_type": "code",
   "execution_count": 18,
   "id": "b98a1594-7458-4ae5-b866-d8e67c3b281f",
   "metadata": {},
   "outputs": [
    {
     "name": "stdout",
     "output_type": "stream",
     "text": [
      "[[ 20.   22.   22.2]\n",
      " [ 30.  -30.    0. ]]\n",
      "[[ 4.    4.4   4.44]\n",
      " [ 6.   -6.    0.  ]]\n",
      "[[ 1.  1.  1.]\n",
      " [ 1.  1. nan]]\n"
     ]
    },
    {
     "name": "stderr",
     "output_type": "stream",
     "text": [
      "C:\\Users\\이시운\\AppData\\Local\\Temp\\ipykernel_35744\\2481136603.py:3: RuntimeWarning: invalid value encountered in divide\n",
      "  print(data / data)\n"
     ]
    }
   ],
   "source": [
    "print(data * 10)\n",
    "print(data + data)\n",
    "print(data / data)"
   ]
  },
  {
   "cell_type": "code",
   "execution_count": 22,
   "id": "a5aeeee9-8e0f-4b01-9366-9453dfa8cbe0",
   "metadata": {},
   "outputs": [
    {
     "name": "stdout",
     "output_type": "stream",
     "text": [
      "(2, 3)\n",
      "<class 'numpy.ndarray'>\n",
      "float64\n"
     ]
    }
   ],
   "source": [
    "print(data.shape)\n",
    "print(type(data))\n",
    "print(data.dtype)"
   ]
  },
  {
   "cell_type": "markdown",
   "id": "7122da24-627b-454a-8593-52c4e56de584",
   "metadata": {},
   "source": [
    "### 1.1 ndarray 생성"
   ]
  },
  {
   "cell_type": "code",
   "execution_count": 24,
   "id": "0212099a-ed8a-4fd6-9621-f7ffed244d51",
   "metadata": {},
   "outputs": [
    {
     "name": "stdout",
     "output_type": "stream",
     "text": [
      "[1.  2.  3.  4.  5.  6.  7.  8.  9.9]\n"
     ]
    }
   ],
   "source": [
    "my_list = [1, 2, 3, 4, 5, 6, 7, 8, 9.9]\n",
    "arr = np.array(my_list)\n",
    "print(arr)"
   ]
  },
  {
   "cell_type": "code",
   "execution_count": 25,
   "id": "6e68125b-d7ff-49a7-945b-563172698a38",
   "metadata": {},
   "outputs": [
    {
     "name": "stdout",
     "output_type": "stream",
     "text": [
      "[[1 2 3 4]\n",
      " [5 6 7 8]]\n"
     ]
    }
   ],
   "source": [
    "my_list2 = [[1, 2, 3, 4], [5, 6, 7, 8]]\n",
    "arr2 = np.array(my_list2)\n",
    "print(arr2)"
   ]
  },
  {
   "cell_type": "code",
   "execution_count": 26,
   "id": "14c21df1-aafc-4bc2-9c17-23f197187708",
   "metadata": {},
   "outputs": [
    {
     "name": "stdout",
     "output_type": "stream",
     "text": [
      "float64\n",
      "int64\n"
     ]
    }
   ],
   "source": [
    "print(arr.dtype)\n",
    "print(arr2.dtype)"
   ]
  },
  {
   "cell_type": "code",
   "execution_count": 27,
   "id": "05339931-c31d-456d-965c-26c68a7931b9",
   "metadata": {},
   "outputs": [
    {
     "name": "stdout",
     "output_type": "stream",
     "text": [
      "1\n",
      "2\n"
     ]
    }
   ],
   "source": [
    "print(arr.ndim)\n",
    "print(arr2.ndim)"
   ]
  },
  {
   "cell_type": "code",
   "execution_count": 28,
   "id": "d642dddf-ad6a-4d74-8c35-d54a88c5b43d",
   "metadata": {},
   "outputs": [
    {
     "name": "stdout",
     "output_type": "stream",
     "text": [
      "(9,)\n",
      "(2, 4)\n"
     ]
    }
   ],
   "source": [
    "print(arr.shape)\n",
    "print(arr2.shape)"
   ]
  },
  {
   "cell_type": "code",
   "execution_count": 34,
   "id": "fc9d43d1-5dfa-4dad-a5c5-8597f68998c0",
   "metadata": {},
   "outputs": [
    {
     "name": "stdout",
     "output_type": "stream",
     "text": [
      "[0. 0. 0. 0. 0. 0. 0. 0. 0. 0.]\n",
      "[0. 0. 0. 0. 0. 0. 0. 0. 0. 0.]\n",
      "[[0. 0. 0. 0. 0.]\n",
      " [0. 0. 0. 0. 0.]\n",
      " [0. 0. 0. 0. 0.]\n",
      " [0. 0. 0. 0. 0.]\n",
      " [0. 0. 0. 0. 0.]]\n",
      "[[0. 0. 0. 0. 0.]\n",
      " [0. 0. 0. 0. 0.]\n",
      " [0. 0. 0. 0. 0.]\n",
      " [0. 0. 0. 0. 0.]\n",
      " [0. 0. 0. 0. 0.]]\n",
      "[[[0. 0. 0. 0.]\n",
      "  [0. 0. 0. 0.]\n",
      "  [0. 0. 0. 0.]]\n",
      "\n",
      " [[0. 0. 0. 0.]\n",
      "  [0. 0. 0. 0.]\n",
      "  [0. 0. 0. 0.]]]\n",
      "[[[0. 0. 0. 0.]\n",
      "  [0. 0. 0. 0.]\n",
      "  [0. 0. 0. 0.]]\n",
      "\n",
      " [[0. 0. 0. 0.]\n",
      "  [0. 0. 0. 0.]\n",
      "  [0. 0. 0. 0.]]]\n"
     ]
    }
   ],
   "source": [
    "print(np.zeros(10))\n",
    "print(np.empty(10))\n",
    "print(np.zeros((5, 5)))\n",
    "print(np.empty((5, 5)))\n",
    "print(np.zeros((2, 3, 4)))\n",
    "print(np.empty((2, 3, 4)))"
   ]
  },
  {
   "cell_type": "code",
   "execution_count": 36,
   "id": "33a2f7ae-08e9-4faf-855e-257cf1a78a59",
   "metadata": {},
   "outputs": [
    {
     "name": "stdout",
     "output_type": "stream",
     "text": [
      "[0 1 2 3 4]\n"
     ]
    }
   ],
   "source": [
    "print(np.arange(5))"
   ]
  },
  {
   "cell_type": "markdown",
   "id": "b91544ea-4638-48fd-9254-f3d6396b830e",
   "metadata": {},
   "source": [
    "### 1.2 자료형"
   ]
  },
  {
   "cell_type": "code",
   "execution_count": 40,
   "id": "7528a4eb-7fc0-4245-a988-2fe06f20ed53",
   "metadata": {},
   "outputs": [
    {
     "name": "stdout",
     "output_type": "stream",
     "text": [
      "float64\n",
      "int8\n"
     ]
    }
   ],
   "source": [
    "arr1 = np.array([1, 2, 3], dtype=np.float64)\n",
    "arr2 = np.array([1, 2, 3], dtype=np.int8)\n",
    "\n",
    "print(arr1.dtype)\n",
    "print(arr2.dtype)\n"
   ]
  },
  {
   "cell_type": "code",
   "execution_count": 43,
   "id": "974d937c-6f37-4d1f-b05a-776529bace34",
   "metadata": {},
   "outputs": [
    {
     "name": "stdout",
     "output_type": "stream",
     "text": [
      "[1 2 3 4 5]\n",
      "[1. 2. 3. 4. 5.]\n",
      "float32\n"
     ]
    }
   ],
   "source": [
    "arr = np.array([1, 2, 3, 4, 5])\n",
    "float_arr = arr.astype(np.float32)\n",
    "print(arr)\n",
    "print(float_arr)\n",
    "print(float_arr.dtype)"
   ]
  },
  {
   "cell_type": "code",
   "execution_count": 44,
   "id": "ca59b512-04fb-4bb4-9c44-dbc89c64f6d4",
   "metadata": {},
   "outputs": [
    {
     "name": "stdout",
     "output_type": "stream",
     "text": [
      "[ 1  2 -3 -4 -5]\n"
     ]
    }
   ],
   "source": [
    "arr = np.array([1, 2.2, -3.3, -4, -5])\n",
    "int_arr = arr.astype(np.int32)\n",
    "print(int_arr)"
   ]
  },
  {
   "cell_type": "code",
   "execution_count": 47,
   "id": "98b5f017-b0ec-4add-afa1-150364970124",
   "metadata": {},
   "outputs": [
    {
     "name": "stdout",
     "output_type": "stream",
     "text": [
      "[1 2 3]\n"
     ]
    }
   ],
   "source": [
    "arr = np.array(['1', '2', '3'])\n",
    "int_arr = arr.astype(np.int32)\n",
    "print(int_arr)"
   ]
  },
  {
   "cell_type": "code",
   "execution_count": 53,
   "id": "45782e1e-02d0-49e6-962b-f0130779892f",
   "metadata": {},
   "outputs": [
    {
     "name": "stdout",
     "output_type": "stream",
     "text": [
      "[[ True False  True]\n",
      " [False  True False]]\n"
     ]
    }
   ],
   "source": [
    "a = [[1, 2, 3], [4, 5, 6]]\n",
    "b = [[5, 6, 7], [2, 3, 4]]\n",
    "arr_a = np.array(a)\n",
    "arr_b = np.array(b)\n",
    "print(arr_a > arr_b)"
   ]
  },
  {
   "cell_type": "markdown",
   "id": "4e092622-8860-4362-9af7-695b6038a636",
   "metadata": {},
   "source": [
    "### 1.4 인덱싱, 슬라이싱"
   ]
  },
  {
   "cell_type": "code",
   "execution_count": 63,
   "id": "68bd5493-8691-4f56-9442-4e7d4680c052",
   "metadata": {},
   "outputs": [
    {
     "name": "stdout",
     "output_type": "stream",
     "text": [
      "[0 1 2 3 4 5 6 7 8 9]\n",
      "5\n",
      "[3 4]\n",
      "[0 1 2 0 0 0 6 7 8 9]\n"
     ]
    }
   ],
   "source": [
    "arr = np.arange(10)\n",
    "print(arr)\n",
    "print(arr[5])\n",
    "print(arr[3:5])\n",
    "\n",
    "\n",
    "arr[3:6] = 0\n",
    "print(arr)"
   ]
  },
  {
   "cell_type": "code",
   "execution_count": 64,
   "id": "1a927564-936f-423e-8c63-c8bfce9cb082",
   "metadata": {},
   "outputs": [
    {
     "name": "stdout",
     "output_type": "stream",
     "text": [
      "[100   1   2   0   0   0   6   7   8   9]\n"
     ]
    }
   ],
   "source": [
    "#슬라이싱을 해도 원본을 들고있음 (기본 슬라이싱은 별도)\n",
    "slice_arr = arr[:]\n",
    "slice_arr[0] = 100\n",
    "print(arr)"
   ]
  },
  {
   "cell_type": "code",
   "execution_count": 65,
   "id": "37d6180b-8881-4fa8-a0ef-8631fdf9607a",
   "metadata": {},
   "outputs": [],
   "source": [
    "a = [[1, 2, 3], [4, 5, 6], [7, 8, 9]]\n",
    "arr = np.array(a)"
   ]
  },
  {
   "cell_type": "code",
   "execution_count": 68,
   "id": "d880ade7-d61f-4556-93d4-0ebb5335c420",
   "metadata": {},
   "outputs": [
    {
     "name": "stdout",
     "output_type": "stream",
     "text": [
      "2\n",
      "2\n"
     ]
    }
   ],
   "source": [
    "print(arr[0][1])\n",
    "print(arr[0, 1])"
   ]
  },
  {
   "cell_type": "code",
   "execution_count": 103,
   "id": "f47a946d-46e8-4b46-9972-9639803e1336",
   "metadata": {},
   "outputs": [
    {
     "name": "stdout",
     "output_type": "stream",
     "text": [
      "[[[ 1  2  3]\n",
      "  [ 4  5  6]]\n",
      "\n",
      " [[ 7  8  9]\n",
      "  [10 11 12]]]\n"
     ]
    }
   ],
   "source": [
    "a = [\n",
    "        [\n",
    "            [1, 2, 3],\n",
    "            [4, 5, 6]\n",
    "        ],\n",
    "        [\n",
    "            [7, 8, 9],\n",
    "            [10, 11, 12],\n",
    "        ]\n",
    "]\n",
    "arr = np.array(a)\n",
    "print(arr)"
   ]
  },
  {
   "cell_type": "code",
   "execution_count": 104,
   "id": "d58b01b4-6f51-4316-afd3-efc1a4464376",
   "metadata": {},
   "outputs": [
    {
     "name": "stdout",
     "output_type": "stream",
     "text": [
      "[[1 2 3]\n",
      " [4 5 6]]\n",
      "[1 2 3]\n",
      "1\n"
     ]
    }
   ],
   "source": [
    "print(arr[0])\n",
    "print(arr[0, 0])\n",
    "print(arr[0, 0][0])"
   ]
  },
  {
   "cell_type": "code",
   "execution_count": 105,
   "id": "4aa1b2b1-24ca-4636-b2d4-66082cb149cb",
   "metadata": {},
   "outputs": [
    {
     "name": "stdout",
     "output_type": "stream",
     "text": [
      "[[1 2 3]]\n"
     ]
    }
   ],
   "source": [
    "print(arr[0][0:1][:])"
   ]
  },
  {
   "cell_type": "code",
   "execution_count": 106,
   "id": "6940dd07-fa83-40fd-8308-fbb2c08815d4",
   "metadata": {},
   "outputs": [],
   "source": [
    "arr2d = np.arange(1, 10).reshape(3, 3)"
   ]
  },
  {
   "cell_type": "code",
   "execution_count": null,
   "id": "38a334a8-6483-4fe4-a96f-b62c922b268e",
   "metadata": {},
   "outputs": [],
   "source": []
  },
  {
   "cell_type": "code",
   "execution_count": 107,
   "id": "d3ef49ec-4561-434b-97c1-7dad79c39b72",
   "metadata": {},
   "outputs": [
    {
     "data": {
      "text/plain": [
       "array([[2, 3],\n",
       "       [5, 6]])"
      ]
     },
     "execution_count": 107,
     "metadata": {},
     "output_type": "execute_result"
    }
   ],
   "source": [
    "arr2d[:2, 1:]"
   ]
  },
  {
   "cell_type": "code",
   "execution_count": 95,
   "id": "2ffc04a4-dca4-483d-b2da-c5e6cc24f359",
   "metadata": {},
   "outputs": [
    {
     "name": "stdout",
     "output_type": "stream",
     "text": [
      "[[1 2 3]]\n"
     ]
    }
   ],
   "source": [
    "print(arr[0][0:1][:])"
   ]
  },
  {
   "cell_type": "code",
   "execution_count": 110,
   "id": "188e9ff1-b646-463b-a81f-d1fb1b86a695",
   "metadata": {},
   "outputs": [
    {
     "name": "stdout",
     "output_type": "stream",
     "text": [
      "[[100   2   3]\n",
      " [100   5   6]\n",
      " [100   8   9]]\n"
     ]
    }
   ],
   "source": [
    "arr2d[:, :1] =100\n",
    "print(arr2d)"
   ]
  },
  {
   "cell_type": "markdown",
   "id": "c66ad9fe-0d03-4e18-bc29-f9c430ba43a9",
   "metadata": {},
   "source": [
    "### bool 값으로 선택"
   ]
  },
  {
   "cell_type": "code",
   "execution_count": 143,
   "id": "0c0482e0-6502-4290-89bf-f17da7fb894c",
   "metadata": {},
   "outputs": [
    {
     "name": "stdout",
     "output_type": "stream",
     "text": [
      "['a' 'b' 'a' 'c']\n",
      "[['지' '100']\n",
      " ['수' '90']\n",
      " ['화' '80']\n",
      " ['풍' '70']]\n"
     ]
    }
   ],
   "source": [
    "names = ['a', 'b', 'a', 'c']\n",
    "scores = [\n",
    "    ['지', 100],\n",
    "    ['수', 90],\n",
    "    ['화', 80],\n",
    "    ['풍', 70],\n",
    "]\n",
    "names_arr = np.array(names)\n",
    "scores_arr = np.array(scores)\n",
    "print(names_arr)\n",
    "print(scores_arr)"
   ]
  },
  {
   "cell_type": "code",
   "execution_count": 144,
   "id": "4f534508-43e8-4e37-9cb0-b530b89e7776",
   "metadata": {},
   "outputs": [
    {
     "data": {
      "text/plain": [
       "array([ True, False,  True, False])"
      ]
     },
     "execution_count": 144,
     "metadata": {},
     "output_type": "execute_result"
    }
   ],
   "source": [
    "names_arr == 'a'"
   ]
  },
  {
   "cell_type": "code",
   "execution_count": 145,
   "id": "d6dbd9c9-63f7-4b08-bd3c-7d4dcafceba2",
   "metadata": {},
   "outputs": [
    {
     "data": {
      "text/plain": [
       "array([['100'],\n",
       "       ['80']], dtype='<U21')"
      ]
     },
     "execution_count": 145,
     "metadata": {},
     "output_type": "execute_result"
    }
   ],
   "source": [
    "scores_arr[names_arr == 'a', 1:]"
   ]
  },
  {
   "cell_type": "code",
   "execution_count": 146,
   "id": "6c4894d9-d184-4fe1-afb3-01a67ae2cc81",
   "metadata": {},
   "outputs": [
    {
     "name": "stdout",
     "output_type": "stream",
     "text": [
      "[False  True False  True]\n",
      "[False  True False  True]\n"
     ]
    }
   ],
   "source": [
    "print(names_arr != 'a')\n",
    "print(~(names_arr == 'a'))"
   ]
  },
  {
   "cell_type": "code",
   "execution_count": 147,
   "id": "3267dec8-21f4-4079-b446-186b8478487f",
   "metadata": {},
   "outputs": [
    {
     "name": "stdout",
     "output_type": "stream",
     "text": [
      "[False False False  True]\n"
     ]
    },
    {
     "data": {
      "text/plain": [
       "array([['풍', '70']], dtype='<U21')"
      ]
     },
     "execution_count": 147,
     "metadata": {},
     "output_type": "execute_result"
    }
   ],
   "source": [
    "cond = names_arr == 'c'\n",
    "print(cond)\n",
    "scores_arr[cond]"
   ]
  },
  {
   "cell_type": "code",
   "execution_count": 148,
   "id": "024b770b-336c-4b1b-acf6-c0ad54ebf585",
   "metadata": {},
   "outputs": [
    {
     "data": {
      "text/plain": [
       "array([['지', '100'],\n",
       "       ['화', '80'],\n",
       "       ['풍', '70']], dtype='<U21')"
      ]
     },
     "execution_count": 148,
     "metadata": {},
     "output_type": "execute_result"
    }
   ],
   "source": [
    "cond = (names_arr == 'c') | (names_arr =='a')\n",
    "scores_arr[cond]"
   ]
  },
  {
   "cell_type": "markdown",
   "id": "25716bec-bc58-4fbc-8b99-bb61987c03c5",
   "metadata": {},
   "source": [
    "### 1.6 팬시 인덱싱(fancy indexing)"
   ]
  },
  {
   "cell_type": "code",
   "execution_count": 158,
   "id": "27c41a6e-a642-4fac-be21-36e559b8dcc4",
   "metadata": {},
   "outputs": [
    {
     "name": "stdout",
     "output_type": "stream",
     "text": [
      "[[ 0  1  2  3]\n",
      " [ 4  5  6  7]\n",
      " [ 8  9 10 11]\n",
      " [12 13 14 15]\n",
      " [16 17 18 19]\n",
      " [20 21 22 23]\n",
      " [24 25 26 27]\n",
      " [28 29 30 31]]\n"
     ]
    }
   ],
   "source": [
    "arr = np.arange(32).reshape(8, 4)\n",
    "print(arr)"
   ]
  },
  {
   "cell_type": "code",
   "execution_count": 162,
   "id": "d09c55e7-dda2-4db9-b571-4d3eaeea1c57",
   "metadata": {},
   "outputs": [
    {
     "name": "stdout",
     "output_type": "stream",
     "text": [
      "[[ 0  1  2  3]\n",
      " [12 13 14 15]\n",
      " [ 8  9 10 11]\n",
      " [28 29 30 31]\n",
      " [ 8  9 10 11]]\n"
     ]
    }
   ],
   "source": [
    "print(arr[[0, 3, 2, -1, -6]])"
   ]
  },
  {
   "cell_type": "code",
   "execution_count": 169,
   "id": "13832ca5-71a9-4d60-a521-a89c683c4577",
   "metadata": {},
   "outputs": [
    {
     "data": {
      "text/plain": [
       "array([15, 10,  5])"
      ]
     },
     "execution_count": 169,
     "metadata": {},
     "output_type": "execute_result"
    }
   ],
   "source": [
    "arr[[3, 2, 1],[3, 2, 1]]"
   ]
  },
  {
   "cell_type": "markdown",
   "id": "4771eab7-628e-4767-bcbc-01a525174767",
   "metadata": {},
   "source": [
    "### 1.7 전치 "
   ]
  },
  {
   "cell_type": "code",
   "execution_count": 172,
   "id": "54c7ceef-37d4-4c2a-b0f0-a208a0209d7c",
   "metadata": {},
   "outputs": [
    {
     "name": "stdout",
     "output_type": "stream",
     "text": [
      "[[ 0  1  2  3  4]\n",
      " [ 5  6  7  8  9]\n",
      " [10 11 12 13 14]]\n",
      "[[ 0  5 10]\n",
      " [ 1  6 11]\n",
      " [ 2  7 12]\n",
      " [ 3  8 13]\n",
      " [ 4  9 14]]\n"
     ]
    }
   ],
   "source": [
    "# 뒤집기\n",
    "arr = np.arange(15).reshape(3, 5)\n",
    "print(arr)\n",
    "print(arr.T)"
   ]
  },
  {
   "cell_type": "code",
   "execution_count": 177,
   "id": "e7d9da00-e471-4f34-8800-eecf0b7aa0d9",
   "metadata": {},
   "outputs": [
    {
     "name": "stdout",
     "output_type": "stream",
     "text": [
      "[[ 30  80 130]\n",
      " [ 80 255 430]\n",
      " [130 430 730]]\n",
      "[[ 30  80 130]\n",
      " [ 80 255 430]\n",
      " [130 430 730]]\n"
     ]
    }
   ],
   "source": [
    "# 행렬의 곱\n",
    "print(np.dot(arr, arr.T))\n",
    "print(arr @ arr.T)"
   ]
  },
  {
   "cell_type": "code",
   "execution_count": 180,
   "id": "952bbcbb-fbe2-4c42-9152-9b3fa7f038b1",
   "metadata": {},
   "outputs": [
    {
     "name": "stdout",
     "output_type": "stream",
     "text": [
      "[[ 0.38659812 -0.36786145  0.75038294  1.15493519]\n",
      " [-1.85617026 -0.12810147 -0.09737473 -1.11458708]\n",
      " [ 1.27642303 -1.64106709 -0.64620304  0.92524359]\n",
      " [ 0.42736548 -0.53015431  0.39322255 -1.45818335]]\n"
     ]
    }
   ],
   "source": [
    "sample = np.random.standard_normal(size=(4, 4))\n",
    "print(sample)"
   ]
  },
  {
   "cell_type": "code",
   "execution_count": 182,
   "id": "13e7e4eb-6140-4f38-8fe2-5aa79e74d58b",
   "metadata": {},
   "outputs": [
    {
     "name": "stdout",
     "output_type": "stream",
     "text": [
      "[[0.62177015        nan 0.86624647 1.07467911]\n",
      " [       nan        nan        nan        nan]\n",
      " [1.12978893        nan        nan 0.96189583]\n",
      " [0.65373196        nan 0.6270746         nan]]\n"
     ]
    },
    {
     "name": "stderr",
     "output_type": "stream",
     "text": [
      "C:\\Users\\이시운\\AppData\\Local\\Temp\\ipykernel_35744\\724543005.py:1: RuntimeWarning: invalid value encountered in sqrt\n",
      "  print(np.sqrt(sample))\n"
     ]
    }
   ],
   "source": [
    "print(np.sqrt(sample))\n",
    "# nan : nor a number"
   ]
  },
  {
   "cell_type": "code",
   "execution_count": 183,
   "id": "171a3d3e-7e00-4e42-a903-e462ed215595",
   "metadata": {},
   "outputs": [
    {
     "name": "stdout",
     "output_type": "stream",
     "text": [
      "[[0.38659812 0.36786145 0.75038294 1.15493519]\n",
      " [1.85617026 0.12810147 0.09737473 1.11458708]\n",
      " [1.27642303 1.64106709 0.64620304 0.92524359]\n",
      " [0.42736548 0.53015431 0.39322255 1.45818335]]\n"
     ]
    }
   ],
   "source": [
    "# 절댓값\n",
    "print(np.abs(sample))"
   ]
  },
  {
   "cell_type": "code",
   "execution_count": 185,
   "id": "244498df-1a02-410d-87f9-be5019e87198",
   "metadata": {},
   "outputs": [
    {
     "name": "stderr",
     "output_type": "stream",
     "text": [
      "C:\\Users\\이시운\\AppData\\Local\\Temp\\ipykernel_35744\\619758985.py:1: RuntimeWarning: invalid value encountered in sqrt\n",
      "  np.isnan(np.sqrt(sample))\n"
     ]
    },
    {
     "data": {
      "text/plain": [
       "array([[False,  True, False, False],\n",
       "       [ True,  True,  True,  True],\n",
       "       [False,  True,  True, False],\n",
       "       [False,  True, False,  True]])"
      ]
     },
     "execution_count": 185,
     "metadata": {},
     "output_type": "execute_result"
    }
   ],
   "source": [
    "np.isnan(np.sqrt(sample))"
   ]
  },
  {
   "cell_type": "code",
   "execution_count": 192,
   "id": "43e30549-5c0b-4181-8467-f6da5599f23d",
   "metadata": {},
   "outputs": [
    {
     "name": "stderr",
     "output_type": "stream",
     "text": [
      "C:\\Users\\이시운\\AppData\\Local\\Temp\\ipykernel_35744\\3430129066.py:1: RuntimeWarning: invalid value encountered in sqrt\n",
      "  np.isnan(np.sqrt(sample)) * np.sqrt(sample)\n"
     ]
    },
    {
     "data": {
      "text/plain": [
       "array([[ 0., nan,  0.,  0.],\n",
       "       [nan, nan, nan, nan],\n",
       "       [ 0., nan, nan,  0.],\n",
       "       [ 0., nan,  0., nan]])"
      ]
     },
     "execution_count": 192,
     "metadata": {},
     "output_type": "execute_result"
    }
   ],
   "source": [
    "np.isnan(np.sqrt(sample)) * np.sqrt(sample)"
   ]
  },
  {
   "cell_type": "code",
   "execution_count": 196,
   "id": "5308ec2a-768b-43d1-8b30-0a74002b65fe",
   "metadata": {},
   "outputs": [
    {
     "name": "stdout",
     "output_type": "stream",
     "text": [
      "[0 1 2 ... 4 3 2]\n"
     ]
    }
   ],
   "source": [
    "import random\n",
    "position = 0\n",
    "walk = [position]\n",
    "nsteps = 1000\n",
    "for _ in range(nsteps):\n",
    "    step = 1 if random.randint(0, 1) else -1\n",
    "    position += step\n",
    "    walk.append(position)\n",
    "walk_arr = np.array(walk)\n",
    "print(walk_arr)"
   ]
  },
  {
   "cell_type": "code",
   "execution_count": 197,
   "id": "9adf06dc-0f4f-423b-99f3-a5e7da75e4ac",
   "metadata": {},
   "outputs": [],
   "source": [
    "### 시각화 m"
   ]
  },
  {
   "cell_type": "code",
   "execution_count": 199,
   "id": "bf7ff646-3dd6-4019-a034-4d5a92c255a6",
   "metadata": {},
   "outputs": [
    {
     "data": {
      "text/plain": [
       "<Figure size 640x480 with 0 Axes>"
      ]
     },
     "execution_count": 199,
     "metadata": {},
     "output_type": "execute_result"
    },
    {
     "data": {
      "text/plain": [
       "<Figure size 640x480 with 0 Axes>"
      ]
     },
     "metadata": {},
     "output_type": "display_data"
    }
   ],
   "source": [
    "import matplotlib.pyplot as plt\n",
    "plt.figure()"
   ]
  },
  {
   "cell_type": "code",
   "execution_count": 204,
   "id": "e9a4684a-eff4-48f4-a9a0-83c4de7ae43c",
   "metadata": {},
   "outputs": [
    {
     "data": {
      "image/png": "[encoded data removed]",
      "text/plain": [
       "<Figure size 640x480 with 1 Axes>"
      ]
     },
     "metadata": {},
     "output_type": "display_data"
    }
   ],
   "source": [
    "plt.plot(walk_arr[:100])\n",
    "plt.show()"
   ]
  },
  {
   "cell_type": "code",
   "execution_count": 205,
   "id": "7cdc8a2d-9749-4375-b894-64deb3557d74",
   "metadata": {},
   "outputs": [
    {
     "name": "stdout",
     "output_type": "stream",
     "text": [
      "16\n",
      "-5\n"
     ]
    }
   ],
   "source": [
    "print(walk_arr[:100].max())\n",
    "print(walk_arr[:100].min())\n"
   ]
  },
  {
   "cell_type": "code",
   "execution_count": 207,
   "id": "b281c8b3-103e-48d1-98ae-a5a33114e698",
   "metadata": {},
   "outputs": [
    {
     "name": "stdout",
     "output_type": "stream",
     "text": [
      "49\n"
     ]
    }
   ],
   "source": [
    "print((walk_arr[:100] >= 5) .argmax())"
   ]
  },
  {
   "cell_type": "code",
   "execution_count": null,
   "id": "c01cd3cc-89ec-4624-88ae-cd6d5eda80ef",
   "metadata": {},
   "outputs": [],
   "source": []
  }
 ],
 "metadata": {
  "kernelspec": {
   "display_name": "Python 3 (ipykernel)",
   "language": "python",
   "name": "python3"
  },
  "language_info": {
   "codemirror_mode": {
    "name": "ipython",
    "version": 3
   },
   "file_extension": ".py",
   "mimetype": "text/x-python",
   "name": "python",
   "nbconvert_exporter": "python",
   "pygments_lexer": "ipython3",
   "version": "3.12.4"
  }
 },
 "nbformat": 4,
 "nbformat_minor": 5
}
